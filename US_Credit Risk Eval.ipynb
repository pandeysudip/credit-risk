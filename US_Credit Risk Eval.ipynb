{
 "cells": [
  {
   "cell_type": "markdown",
   "metadata": {},
   "source": [
    "## MODEL Building (Under sampling dataset)"
   ]
  },
  {
   "cell_type": "code",
   "execution_count": 85,
   "metadata": {},
   "outputs": [],
   "source": [
    "#importing modules\n",
    "import numpy as np\n",
    "import pandas as pd\n",
    "from pathlib import Path\n",
    "import matplotlib.pyplot as plt\n",
    "import warnings\n",
    "warnings.filterwarnings('ignore')\n",
    "from sklearn.linear_model import LogisticRegression\n",
    "from sklearn.ensemble import RandomForestClassifier\n",
    "from sklearn.metrics import confusion_matrix\n",
    "from sklearn.model_selection import cross_val_score, cross_val_predict\n",
    "from sklearn.metrics import precision_score, recall_score, classification_report, f1_score\n",
    "from sklearn.preprocessing import StandardScaler, LabelEncoder\n",
    "from sklearn.neighbors import KNeighborsClassifier\n",
    "from sklearn.ensemble import ExtraTreesClassifier\n",
    "from sklearn.tree import DecisionTreeClassifier\n",
    "from sklearn.ensemble import AdaBoostClassifier\n",
    "from sklearn.svm import SVC\n",
    "from sklearn.metrics import roc_curve,  auc"
   ]
  },
  {
   "cell_type": "code",
   "execution_count": 3,
   "metadata": {},
   "outputs": [],
   "source": [
    "#importing under sampling dataset\n",
    "train_df = pd.read_csv(Path('Resources/cleaned-data/2019loans_us.csv'))\n",
    "test_df = pd.read_csv(Path('Resources/cleaned-data/2020Q1loans_us.csv'))"
   ]
  },
  {
   "cell_type": "code",
   "execution_count": 4,
   "metadata": {},
   "outputs": [
    {
     "data": {
      "text/html": [
       "<div>\n",
       "<style scoped>\n",
       "    .dataframe tbody tr th:only-of-type {\n",
       "        vertical-align: middle;\n",
       "    }\n",
       "\n",
       "    .dataframe tbody tr th {\n",
       "        vertical-align: top;\n",
       "    }\n",
       "\n",
       "    .dataframe thead th {\n",
       "        text-align: right;\n",
       "    }\n",
       "</style>\n",
       "<table border=\"1\" class=\"dataframe\">\n",
       "  <thead>\n",
       "    <tr style=\"text-align: right;\">\n",
       "      <th></th>\n",
       "      <th>loan_amnt</th>\n",
       "      <th>int_rate</th>\n",
       "      <th>installment</th>\n",
       "      <th>home_ownership</th>\n",
       "      <th>annual_inc</th>\n",
       "      <th>verification_status</th>\n",
       "      <th>pymnt_plan</th>\n",
       "      <th>dti</th>\n",
       "      <th>delinq_2yrs</th>\n",
       "      <th>inq_last_6mths</th>\n",
       "      <th>...</th>\n",
       "      <th>percent_bc_gt_75</th>\n",
       "      <th>pub_rec_bankruptcies</th>\n",
       "      <th>tax_liens</th>\n",
       "      <th>tot_hi_cred_lim</th>\n",
       "      <th>total_bal_ex_mort</th>\n",
       "      <th>total_bc_limit</th>\n",
       "      <th>total_il_high_credit_limit</th>\n",
       "      <th>hardship_flag</th>\n",
       "      <th>debt_settlement_flag</th>\n",
       "      <th>loan_status</th>\n",
       "    </tr>\n",
       "  </thead>\n",
       "  <tbody>\n",
       "    <tr>\n",
       "      <th>0</th>\n",
       "      <td>7000.0</td>\n",
       "      <td>0.1894</td>\n",
       "      <td>256.38</td>\n",
       "      <td>MORTGAGE</td>\n",
       "      <td>75000.0</td>\n",
       "      <td>Not Verified</td>\n",
       "      <td>n</td>\n",
       "      <td>28.62</td>\n",
       "      <td>0.0</td>\n",
       "      <td>2.0</td>\n",
       "      <td>...</td>\n",
       "      <td>87.5</td>\n",
       "      <td>0.0</td>\n",
       "      <td>0.0</td>\n",
       "      <td>352260.0</td>\n",
       "      <td>62666.0</td>\n",
       "      <td>35000.0</td>\n",
       "      <td>10000.0</td>\n",
       "      <td>N</td>\n",
       "      <td>N</td>\n",
       "      <td>low_risk</td>\n",
       "    </tr>\n",
       "    <tr>\n",
       "      <th>1</th>\n",
       "      <td>40000.0</td>\n",
       "      <td>0.1614</td>\n",
       "      <td>975.71</td>\n",
       "      <td>MORTGAGE</td>\n",
       "      <td>102000.0</td>\n",
       "      <td>Source Verified</td>\n",
       "      <td>n</td>\n",
       "      <td>11.72</td>\n",
       "      <td>2.0</td>\n",
       "      <td>0.0</td>\n",
       "      <td>...</td>\n",
       "      <td>0.0</td>\n",
       "      <td>0.0</td>\n",
       "      <td>0.0</td>\n",
       "      <td>294664.0</td>\n",
       "      <td>109911.0</td>\n",
       "      <td>9000.0</td>\n",
       "      <td>71044.0</td>\n",
       "      <td>N</td>\n",
       "      <td>N</td>\n",
       "      <td>low_risk</td>\n",
       "    </tr>\n",
       "    <tr>\n",
       "      <th>2</th>\n",
       "      <td>11000.0</td>\n",
       "      <td>0.2055</td>\n",
       "      <td>294.81</td>\n",
       "      <td>RENT</td>\n",
       "      <td>45000.0</td>\n",
       "      <td>Verified</td>\n",
       "      <td>n</td>\n",
       "      <td>37.25</td>\n",
       "      <td>1.0</td>\n",
       "      <td>3.0</td>\n",
       "      <td>...</td>\n",
       "      <td>7.7</td>\n",
       "      <td>0.0</td>\n",
       "      <td>0.0</td>\n",
       "      <td>92228.0</td>\n",
       "      <td>36007.0</td>\n",
       "      <td>33000.0</td>\n",
       "      <td>46328.0</td>\n",
       "      <td>N</td>\n",
       "      <td>N</td>\n",
       "      <td>low_risk</td>\n",
       "    </tr>\n",
       "    <tr>\n",
       "      <th>3</th>\n",
       "      <td>4000.0</td>\n",
       "      <td>0.1612</td>\n",
       "      <td>140.87</td>\n",
       "      <td>MORTGAGE</td>\n",
       "      <td>38000.0</td>\n",
       "      <td>Not Verified</td>\n",
       "      <td>n</td>\n",
       "      <td>42.89</td>\n",
       "      <td>1.0</td>\n",
       "      <td>0.0</td>\n",
       "      <td>...</td>\n",
       "      <td>100.0</td>\n",
       "      <td>0.0</td>\n",
       "      <td>0.0</td>\n",
       "      <td>284273.0</td>\n",
       "      <td>52236.0</td>\n",
       "      <td>13500.0</td>\n",
       "      <td>52017.0</td>\n",
       "      <td>N</td>\n",
       "      <td>N</td>\n",
       "      <td>low_risk</td>\n",
       "    </tr>\n",
       "    <tr>\n",
       "      <th>4</th>\n",
       "      <td>14000.0</td>\n",
       "      <td>0.1797</td>\n",
       "      <td>505.93</td>\n",
       "      <td>MORTGAGE</td>\n",
       "      <td>43000.0</td>\n",
       "      <td>Source Verified</td>\n",
       "      <td>n</td>\n",
       "      <td>22.16</td>\n",
       "      <td>1.0</td>\n",
       "      <td>0.0</td>\n",
       "      <td>...</td>\n",
       "      <td>25.0</td>\n",
       "      <td>0.0</td>\n",
       "      <td>0.0</td>\n",
       "      <td>120280.0</td>\n",
       "      <td>88147.0</td>\n",
       "      <td>33300.0</td>\n",
       "      <td>78680.0</td>\n",
       "      <td>N</td>\n",
       "      <td>N</td>\n",
       "      <td>low_risk</td>\n",
       "    </tr>\n",
       "    <tr>\n",
       "      <th>...</th>\n",
       "      <td>...</td>\n",
       "      <td>...</td>\n",
       "      <td>...</td>\n",
       "      <td>...</td>\n",
       "      <td>...</td>\n",
       "      <td>...</td>\n",
       "      <td>...</td>\n",
       "      <td>...</td>\n",
       "      <td>...</td>\n",
       "      <td>...</td>\n",
       "      <td>...</td>\n",
       "      <td>...</td>\n",
       "      <td>...</td>\n",
       "      <td>...</td>\n",
       "      <td>...</td>\n",
       "      <td>...</td>\n",
       "      <td>...</td>\n",
       "      <td>...</td>\n",
       "      <td>...</td>\n",
       "      <td>...</td>\n",
       "      <td>...</td>\n",
       "    </tr>\n",
       "    <tr>\n",
       "      <th>12175</th>\n",
       "      <td>19975.0</td>\n",
       "      <td>0.2565</td>\n",
       "      <td>801.09</td>\n",
       "      <td>RENT</td>\n",
       "      <td>28000.0</td>\n",
       "      <td>Not Verified</td>\n",
       "      <td>n</td>\n",
       "      <td>28.42</td>\n",
       "      <td>0.0</td>\n",
       "      <td>0.0</td>\n",
       "      <td>...</td>\n",
       "      <td>16.7</td>\n",
       "      <td>0.0</td>\n",
       "      <td>0.0</td>\n",
       "      <td>50055.0</td>\n",
       "      <td>28192.0</td>\n",
       "      <td>18700.0</td>\n",
       "      <td>19055.0</td>\n",
       "      <td>N</td>\n",
       "      <td>N</td>\n",
       "      <td>high_risk</td>\n",
       "    </tr>\n",
       "    <tr>\n",
       "      <th>12176</th>\n",
       "      <td>15000.0</td>\n",
       "      <td>0.1774</td>\n",
       "      <td>540.34</td>\n",
       "      <td>RENT</td>\n",
       "      <td>50000.0</td>\n",
       "      <td>Verified</td>\n",
       "      <td>n</td>\n",
       "      <td>23.43</td>\n",
       "      <td>4.0</td>\n",
       "      <td>0.0</td>\n",
       "      <td>...</td>\n",
       "      <td>11.1</td>\n",
       "      <td>0.0</td>\n",
       "      <td>0.0</td>\n",
       "      <td>70324.0</td>\n",
       "      <td>57025.0</td>\n",
       "      <td>13300.0</td>\n",
       "      <td>54824.0</td>\n",
       "      <td>N</td>\n",
       "      <td>N</td>\n",
       "      <td>high_risk</td>\n",
       "    </tr>\n",
       "    <tr>\n",
       "      <th>12177</th>\n",
       "      <td>3600.0</td>\n",
       "      <td>0.1862</td>\n",
       "      <td>131.28</td>\n",
       "      <td>RENT</td>\n",
       "      <td>60000.0</td>\n",
       "      <td>Not Verified</td>\n",
       "      <td>n</td>\n",
       "      <td>28.80</td>\n",
       "      <td>0.0</td>\n",
       "      <td>1.0</td>\n",
       "      <td>...</td>\n",
       "      <td>0.0</td>\n",
       "      <td>0.0</td>\n",
       "      <td>0.0</td>\n",
       "      <td>83765.0</td>\n",
       "      <td>55156.0</td>\n",
       "      <td>14800.0</td>\n",
       "      <td>53065.0</td>\n",
       "      <td>N</td>\n",
       "      <td>N</td>\n",
       "      <td>high_risk</td>\n",
       "    </tr>\n",
       "    <tr>\n",
       "      <th>12178</th>\n",
       "      <td>15000.0</td>\n",
       "      <td>0.0881</td>\n",
       "      <td>475.68</td>\n",
       "      <td>MORTGAGE</td>\n",
       "      <td>62000.0</td>\n",
       "      <td>Source Verified</td>\n",
       "      <td>n</td>\n",
       "      <td>11.44</td>\n",
       "      <td>0.0</td>\n",
       "      <td>0.0</td>\n",
       "      <td>...</td>\n",
       "      <td>0.0</td>\n",
       "      <td>0.0</td>\n",
       "      <td>0.0</td>\n",
       "      <td>189930.0</td>\n",
       "      <td>23748.0</td>\n",
       "      <td>7000.0</td>\n",
       "      <td>32930.0</td>\n",
       "      <td>N</td>\n",
       "      <td>N</td>\n",
       "      <td>high_risk</td>\n",
       "    </tr>\n",
       "    <tr>\n",
       "      <th>12179</th>\n",
       "      <td>15000.0</td>\n",
       "      <td>0.1774</td>\n",
       "      <td>540.34</td>\n",
       "      <td>RENT</td>\n",
       "      <td>54080.0</td>\n",
       "      <td>Not Verified</td>\n",
       "      <td>n</td>\n",
       "      <td>21.66</td>\n",
       "      <td>1.0</td>\n",
       "      <td>1.0</td>\n",
       "      <td>...</td>\n",
       "      <td>100.0</td>\n",
       "      <td>0.0</td>\n",
       "      <td>0.0</td>\n",
       "      <td>48968.0</td>\n",
       "      <td>29786.0</td>\n",
       "      <td>2900.0</td>\n",
       "      <td>33968.0</td>\n",
       "      <td>N</td>\n",
       "      <td>N</td>\n",
       "      <td>high_risk</td>\n",
       "    </tr>\n",
       "  </tbody>\n",
       "</table>\n",
       "<p>12180 rows × 84 columns</p>\n",
       "</div>"
      ],
      "text/plain": [
       "       loan_amnt  int_rate  installment home_ownership  annual_inc  \\\n",
       "0         7000.0    0.1894       256.38       MORTGAGE     75000.0   \n",
       "1        40000.0    0.1614       975.71       MORTGAGE    102000.0   \n",
       "2        11000.0    0.2055       294.81           RENT     45000.0   \n",
       "3         4000.0    0.1612       140.87       MORTGAGE     38000.0   \n",
       "4        14000.0    0.1797       505.93       MORTGAGE     43000.0   \n",
       "...          ...       ...          ...            ...         ...   \n",
       "12175    19975.0    0.2565       801.09           RENT     28000.0   \n",
       "12176    15000.0    0.1774       540.34           RENT     50000.0   \n",
       "12177     3600.0    0.1862       131.28           RENT     60000.0   \n",
       "12178    15000.0    0.0881       475.68       MORTGAGE     62000.0   \n",
       "12179    15000.0    0.1774       540.34           RENT     54080.0   \n",
       "\n",
       "      verification_status pymnt_plan    dti  delinq_2yrs  inq_last_6mths  ...  \\\n",
       "0            Not Verified          n  28.62          0.0             2.0  ...   \n",
       "1         Source Verified          n  11.72          2.0             0.0  ...   \n",
       "2                Verified          n  37.25          1.0             3.0  ...   \n",
       "3            Not Verified          n  42.89          1.0             0.0  ...   \n",
       "4         Source Verified          n  22.16          1.0             0.0  ...   \n",
       "...                   ...        ...    ...          ...             ...  ...   \n",
       "12175        Not Verified          n  28.42          0.0             0.0  ...   \n",
       "12176            Verified          n  23.43          4.0             0.0  ...   \n",
       "12177        Not Verified          n  28.80          0.0             1.0  ...   \n",
       "12178     Source Verified          n  11.44          0.0             0.0  ...   \n",
       "12179        Not Verified          n  21.66          1.0             1.0  ...   \n",
       "\n",
       "       percent_bc_gt_75  pub_rec_bankruptcies  tax_liens  tot_hi_cred_lim  \\\n",
       "0                  87.5                   0.0        0.0         352260.0   \n",
       "1                   0.0                   0.0        0.0         294664.0   \n",
       "2                   7.7                   0.0        0.0          92228.0   \n",
       "3                 100.0                   0.0        0.0         284273.0   \n",
       "4                  25.0                   0.0        0.0         120280.0   \n",
       "...                 ...                   ...        ...              ...   \n",
       "12175              16.7                   0.0        0.0          50055.0   \n",
       "12176              11.1                   0.0        0.0          70324.0   \n",
       "12177               0.0                   0.0        0.0          83765.0   \n",
       "12178               0.0                   0.0        0.0         189930.0   \n",
       "12179             100.0                   0.0        0.0          48968.0   \n",
       "\n",
       "      total_bal_ex_mort  total_bc_limit  total_il_high_credit_limit  \\\n",
       "0               62666.0         35000.0                     10000.0   \n",
       "1              109911.0          9000.0                     71044.0   \n",
       "2               36007.0         33000.0                     46328.0   \n",
       "3               52236.0         13500.0                     52017.0   \n",
       "4               88147.0         33300.0                     78680.0   \n",
       "...                 ...             ...                         ...   \n",
       "12175           28192.0         18700.0                     19055.0   \n",
       "12176           57025.0         13300.0                     54824.0   \n",
       "12177           55156.0         14800.0                     53065.0   \n",
       "12178           23748.0          7000.0                     32930.0   \n",
       "12179           29786.0          2900.0                     33968.0   \n",
       "\n",
       "       hardship_flag  debt_settlement_flag  loan_status  \n",
       "0                  N                     N     low_risk  \n",
       "1                  N                     N     low_risk  \n",
       "2                  N                     N     low_risk  \n",
       "3                  N                     N     low_risk  \n",
       "4                  N                     N     low_risk  \n",
       "...              ...                   ...          ...  \n",
       "12175              N                     N    high_risk  \n",
       "12176              N                     N    high_risk  \n",
       "12177              N                     N    high_risk  \n",
       "12178              N                     N    high_risk  \n",
       "12179              N                     N    high_risk  \n",
       "\n",
       "[12180 rows x 84 columns]"
      ]
     },
     "execution_count": 4,
     "metadata": {},
     "output_type": "execute_result"
    }
   ],
   "source": [
    "# looking train data\n",
    "train_df.head()"
   ]
  },
  {
   "cell_type": "code",
   "execution_count": 5,
   "metadata": {},
   "outputs": [
    {
     "data": {
      "text/html": [
       "<div>\n",
       "<style scoped>\n",
       "    .dataframe tbody tr th:only-of-type {\n",
       "        vertical-align: middle;\n",
       "    }\n",
       "\n",
       "    .dataframe tbody tr th {\n",
       "        vertical-align: top;\n",
       "    }\n",
       "\n",
       "    .dataframe thead th {\n",
       "        text-align: right;\n",
       "    }\n",
       "</style>\n",
       "<table border=\"1\" class=\"dataframe\">\n",
       "  <thead>\n",
       "    <tr style=\"text-align: right;\">\n",
       "      <th></th>\n",
       "      <th>loan_amnt</th>\n",
       "      <th>int_rate</th>\n",
       "      <th>installment</th>\n",
       "      <th>home_ownership</th>\n",
       "      <th>annual_inc</th>\n",
       "      <th>verification_status</th>\n",
       "      <th>pymnt_plan</th>\n",
       "      <th>dti</th>\n",
       "      <th>delinq_2yrs</th>\n",
       "      <th>inq_last_6mths</th>\n",
       "      <th>...</th>\n",
       "      <th>percent_bc_gt_75</th>\n",
       "      <th>pub_rec_bankruptcies</th>\n",
       "      <th>tax_liens</th>\n",
       "      <th>tot_hi_cred_lim</th>\n",
       "      <th>total_bal_ex_mort</th>\n",
       "      <th>total_bc_limit</th>\n",
       "      <th>total_il_high_credit_limit</th>\n",
       "      <th>hardship_flag</th>\n",
       "      <th>debt_settlement_flag</th>\n",
       "      <th>loan_status</th>\n",
       "    </tr>\n",
       "  </thead>\n",
       "  <tbody>\n",
       "    <tr>\n",
       "      <th>0</th>\n",
       "      <td>40000.0</td>\n",
       "      <td>0.1033</td>\n",
       "      <td>856.40</td>\n",
       "      <td>RENT</td>\n",
       "      <td>128700.0</td>\n",
       "      <td>Source Verified</td>\n",
       "      <td>n</td>\n",
       "      <td>12.47</td>\n",
       "      <td>0.0</td>\n",
       "      <td>1.0</td>\n",
       "      <td>...</td>\n",
       "      <td>57.1</td>\n",
       "      <td>0.0</td>\n",
       "      <td>0.0</td>\n",
       "      <td>63915.0</td>\n",
       "      <td>49510.0</td>\n",
       "      <td>49400.0</td>\n",
       "      <td>14515.0</td>\n",
       "      <td>Y</td>\n",
       "      <td>N</td>\n",
       "      <td>low_risk</td>\n",
       "    </tr>\n",
       "    <tr>\n",
       "      <th>1</th>\n",
       "      <td>24450.0</td>\n",
       "      <td>0.1430</td>\n",
       "      <td>572.72</td>\n",
       "      <td>MORTGAGE</td>\n",
       "      <td>44574.0</td>\n",
       "      <td>Not Verified</td>\n",
       "      <td>n</td>\n",
       "      <td>15.05</td>\n",
       "      <td>0.0</td>\n",
       "      <td>1.0</td>\n",
       "      <td>...</td>\n",
       "      <td>0.0</td>\n",
       "      <td>0.0</td>\n",
       "      <td>0.0</td>\n",
       "      <td>136425.0</td>\n",
       "      <td>19439.0</td>\n",
       "      <td>15500.0</td>\n",
       "      <td>18925.0</td>\n",
       "      <td>N</td>\n",
       "      <td>N</td>\n",
       "      <td>low_risk</td>\n",
       "    </tr>\n",
       "    <tr>\n",
       "      <th>2</th>\n",
       "      <td>13500.0</td>\n",
       "      <td>0.1430</td>\n",
       "      <td>316.23</td>\n",
       "      <td>OWN</td>\n",
       "      <td>60000.0</td>\n",
       "      <td>Not Verified</td>\n",
       "      <td>n</td>\n",
       "      <td>28.72</td>\n",
       "      <td>0.0</td>\n",
       "      <td>0.0</td>\n",
       "      <td>...</td>\n",
       "      <td>0.0</td>\n",
       "      <td>0.0</td>\n",
       "      <td>0.0</td>\n",
       "      <td>82124.0</td>\n",
       "      <td>65000.0</td>\n",
       "      <td>5400.0</td>\n",
       "      <td>61724.0</td>\n",
       "      <td>Y</td>\n",
       "      <td>N</td>\n",
       "      <td>low_risk</td>\n",
       "    </tr>\n",
       "    <tr>\n",
       "      <th>3</th>\n",
       "      <td>10625.0</td>\n",
       "      <td>0.1774</td>\n",
       "      <td>268.31</td>\n",
       "      <td>RENT</td>\n",
       "      <td>60000.0</td>\n",
       "      <td>Verified</td>\n",
       "      <td>n</td>\n",
       "      <td>15.70</td>\n",
       "      <td>0.0</td>\n",
       "      <td>4.0</td>\n",
       "      <td>...</td>\n",
       "      <td>20.0</td>\n",
       "      <td>0.0</td>\n",
       "      <td>0.0</td>\n",
       "      <td>54855.0</td>\n",
       "      <td>50335.0</td>\n",
       "      <td>23200.0</td>\n",
       "      <td>26255.0</td>\n",
       "      <td>N</td>\n",
       "      <td>N</td>\n",
       "      <td>low_risk</td>\n",
       "    </tr>\n",
       "    <tr>\n",
       "      <th>4</th>\n",
       "      <td>6375.0</td>\n",
       "      <td>0.1862</td>\n",
       "      <td>232.46</td>\n",
       "      <td>RENT</td>\n",
       "      <td>60000.0</td>\n",
       "      <td>Source Verified</td>\n",
       "      <td>n</td>\n",
       "      <td>35.50</td>\n",
       "      <td>0.0</td>\n",
       "      <td>0.0</td>\n",
       "      <td>...</td>\n",
       "      <td>75.0</td>\n",
       "      <td>0.0</td>\n",
       "      <td>0.0</td>\n",
       "      <td>90445.0</td>\n",
       "      <td>56541.0</td>\n",
       "      <td>15300.0</td>\n",
       "      <td>72345.0</td>\n",
       "      <td>N</td>\n",
       "      <td>N</td>\n",
       "      <td>low_risk</td>\n",
       "    </tr>\n",
       "  </tbody>\n",
       "</table>\n",
       "<p>5 rows × 84 columns</p>\n",
       "</div>"
      ],
      "text/plain": [
       "   loan_amnt  int_rate  installment home_ownership  annual_inc  \\\n",
       "0    40000.0    0.1033       856.40           RENT    128700.0   \n",
       "1    24450.0    0.1430       572.72       MORTGAGE     44574.0   \n",
       "2    13500.0    0.1430       316.23            OWN     60000.0   \n",
       "3    10625.0    0.1774       268.31           RENT     60000.0   \n",
       "4     6375.0    0.1862       232.46           RENT     60000.0   \n",
       "\n",
       "  verification_status pymnt_plan    dti  delinq_2yrs  inq_last_6mths  ...  \\\n",
       "0     Source Verified          n  12.47          0.0             1.0  ...   \n",
       "1        Not Verified          n  15.05          0.0             1.0  ...   \n",
       "2        Not Verified          n  28.72          0.0             0.0  ...   \n",
       "3            Verified          n  15.70          0.0             4.0  ...   \n",
       "4     Source Verified          n  35.50          0.0             0.0  ...   \n",
       "\n",
       "   percent_bc_gt_75  pub_rec_bankruptcies  tax_liens  tot_hi_cred_lim  \\\n",
       "0              57.1                   0.0        0.0          63915.0   \n",
       "1               0.0                   0.0        0.0         136425.0   \n",
       "2               0.0                   0.0        0.0          82124.0   \n",
       "3              20.0                   0.0        0.0          54855.0   \n",
       "4              75.0                   0.0        0.0          90445.0   \n",
       "\n",
       "  total_bal_ex_mort  total_bc_limit  total_il_high_credit_limit  \\\n",
       "0           49510.0         49400.0                     14515.0   \n",
       "1           19439.0         15500.0                     18925.0   \n",
       "2           65000.0          5400.0                     61724.0   \n",
       "3           50335.0         23200.0                     26255.0   \n",
       "4           56541.0         15300.0                     72345.0   \n",
       "\n",
       "   hardship_flag  debt_settlement_flag  loan_status  \n",
       "0              Y                     N     low_risk  \n",
       "1              N                     N     low_risk  \n",
       "2              Y                     N     low_risk  \n",
       "3              N                     N     low_risk  \n",
       "4              N                     N     low_risk  \n",
       "\n",
       "[5 rows x 84 columns]"
      ]
     },
     "execution_count": 5,
     "metadata": {},
     "output_type": "execute_result"
    }
   ],
   "source": [
    "# looking test data\n",
    "test_df.head()"
   ]
  },
  {
   "cell_type": "code",
   "execution_count": 6,
   "metadata": {},
   "outputs": [
    {
     "data": {
      "text/plain": [
       "Index(['loan_amnt', 'int_rate', 'installment', 'home_ownership', 'annual_inc',\n",
       "       'verification_status', 'pymnt_plan', 'dti', 'delinq_2yrs',\n",
       "       'inq_last_6mths', 'open_acc', 'pub_rec', 'revol_bal', 'total_acc',\n",
       "       'initial_list_status', 'out_prncp', 'out_prncp_inv', 'total_pymnt',\n",
       "       'total_pymnt_inv', 'total_rec_prncp', 'total_rec_int',\n",
       "       'total_rec_late_fee', 'recoveries', 'collection_recovery_fee',\n",
       "       'last_pymnt_amnt', 'collections_12_mths_ex_med', 'policy_code',\n",
       "       'application_type', 'acc_now_delinq', 'tot_coll_amt', 'tot_cur_bal',\n",
       "       'open_acc_6m', 'open_act_il', 'open_il_12m', 'open_il_24m',\n",
       "       'mths_since_rcnt_il', 'total_bal_il', 'il_util', 'open_rv_12m',\n",
       "       'open_rv_24m', 'max_bal_bc', 'all_util', 'total_rev_hi_lim', 'inq_fi',\n",
       "       'total_cu_tl', 'inq_last_12m', 'acc_open_past_24mths', 'avg_cur_bal',\n",
       "       'bc_open_to_buy', 'bc_util', 'chargeoff_within_12_mths', 'delinq_amnt',\n",
       "       'mo_sin_old_il_acct', 'mo_sin_old_rev_tl_op', 'mo_sin_rcnt_rev_tl_op',\n",
       "       'mo_sin_rcnt_tl', 'mort_acc', 'mths_since_recent_bc',\n",
       "       'mths_since_recent_inq', 'num_accts_ever_120_pd', 'num_actv_bc_tl',\n",
       "       'num_actv_rev_tl', 'num_bc_sats', 'num_bc_tl', 'num_il_tl',\n",
       "       'num_op_rev_tl', 'num_rev_accts', 'num_rev_tl_bal_gt_0', 'num_sats',\n",
       "       'num_tl_120dpd_2m', 'num_tl_30dpd', 'num_tl_90g_dpd_24m',\n",
       "       'num_tl_op_past_12m', 'pct_tl_nvr_dlq', 'percent_bc_gt_75',\n",
       "       'pub_rec_bankruptcies', 'tax_liens', 'tot_hi_cred_lim',\n",
       "       'total_bal_ex_mort', 'total_bc_limit', 'total_il_high_credit_limit',\n",
       "       'hardship_flag', 'debt_settlement_flag', 'loan_status'],\n",
       "      dtype='object')"
      ]
     },
     "execution_count": 6,
     "metadata": {},
     "output_type": "execute_result"
    }
   ],
   "source": [
    "train_df.columns"
   ]
  },
  {
   "cell_type": "code",
   "execution_count": 9,
   "metadata": {},
   "outputs": [
    {
     "data": {
      "text/plain": [
       "(12180, 84)"
      ]
     },
     "execution_count": 9,
     "metadata": {},
     "output_type": "execute_result"
    }
   ],
   "source": [
    "#shape of training data\n",
    "train_df.shape"
   ]
  },
  {
   "cell_type": "code",
   "execution_count": 10,
   "metadata": {},
   "outputs": [
    {
     "data": {
      "text/plain": [
       "(4702, 84)"
      ]
     },
     "execution_count": 10,
     "metadata": {},
     "output_type": "execute_result"
    }
   ],
   "source": [
    "#shape of test data\n",
    "test_df.shape"
   ]
  },
  {
   "cell_type": "code",
   "execution_count": 11,
   "metadata": {},
   "outputs": [],
   "source": [
    "#train_df.info()"
   ]
  },
  {
   "cell_type": "markdown",
   "metadata": {},
   "source": [
    "#removing unnessary columns from training and testing set\n",
    "train_df.drop(columns=['Unnamed: 0', 'index'], inplace=True)\n",
    "test_df.drop(columns=['Unnamed: 0', 'index'], inplace=True)"
   ]
  },
  {
   "cell_type": "code",
   "execution_count": 12,
   "metadata": {},
   "outputs": [
    {
     "data": {
      "text/plain": [
       "low_risk     6090\n",
       "high_risk    6090\n",
       "Name: loan_status, dtype: int64"
      ]
     },
     "execution_count": 12,
     "metadata": {},
     "output_type": "execute_result"
    }
   ],
   "source": [
    "train_df['loan_status'].value_counts()"
   ]
  },
  {
   "cell_type": "markdown",
   "metadata": {},
   "source": [
    "## Train and test set"
   ]
  },
  {
   "cell_type": "code",
   "execution_count": 13,
   "metadata": {},
   "outputs": [],
   "source": [
    "# create feature matrix (X) #selecting all columns except 'loan_status'\n",
    "X_train=train_df.drop('loan_status', axis=1) \n",
    "X_test=test_df.drop('loan_status', axis=1) \n",
    "\n",
    "# create response vector (y) ##selecting 'loan_status'\n",
    "y_train=train_df['loan_status'].values  \n",
    "y_test=test_df['loan_status'].values  "
   ]
  },
  {
   "cell_type": "code",
   "execution_count": 14,
   "metadata": {},
   "outputs": [
    {
     "data": {
      "text/plain": [
       "array(['low_risk', 'low_risk', 'low_risk', ..., 'high_risk', 'high_risk',\n",
       "       'high_risk'], dtype=object)"
      ]
     },
     "execution_count": 14,
     "metadata": {},
     "output_type": "execute_result"
    }
   ],
   "source": [
    "y_train"
   ]
  },
  {
   "cell_type": "markdown",
   "metadata": {},
   "source": [
    "## Converting categorical data to numeric"
   ]
  },
  {
   "cell_type": "code",
   "execution_count": 16,
   "metadata": {},
   "outputs": [],
   "source": [
    "# Convert categorical data to numeric\n",
    "X_train_dumy=pd.get_dummies(X_train)\n",
    "X_test_dumy=pd.get_dummies(X_test)"
   ]
  },
  {
   "cell_type": "code",
   "execution_count": 17,
   "metadata": {},
   "outputs": [
    {
     "name": "stdout",
     "output_type": "stream",
     "text": [
      "(12180, 92)\n",
      "(4702, 91)\n"
     ]
    }
   ],
   "source": [
    "#shape of test and train after pd.get_dummies\n",
    "print(X_train_dumy.shape)\n",
    "print(X_test_dumy.shape)"
   ]
  },
  {
   "cell_type": "code",
   "execution_count": 20,
   "metadata": {},
   "outputs": [],
   "source": [
    "#adding the missing columns in test data(no dept_settlement_flag)\n",
    "X_test_dumy['debt_settlement_flag_Y']=0"
   ]
  },
  {
   "cell_type": "code",
   "execution_count": 21,
   "metadata": {},
   "outputs": [
    {
     "name": "stdout",
     "output_type": "stream",
     "text": [
      "(12180, 92)\n",
      "(4702, 92)\n"
     ]
    }
   ],
   "source": [
    "#shape of test and train after pd.get_dummies\n",
    "print(X_train_dumy.shape)\n",
    "print(X_test_dumy.shape)"
   ]
  },
  {
   "cell_type": "markdown",
   "metadata": {},
   "source": [
    "## Scaling using StandardScalar"
   ]
  },
  {
   "cell_type": "code",
   "execution_count": 22,
   "metadata": {},
   "outputs": [
    {
     "data": {
      "text/plain": [
       "array([1, 1, 1, ..., 0, 0, 0])"
      ]
     },
     "execution_count": 22,
     "metadata": {},
     "output_type": "execute_result"
    }
   ],
   "source": [
    " # Converting output labels to 0 and 1\n",
    "y_train_label = LabelEncoder().fit_transform(y_train)\n",
    "y_train_label"
   ]
  },
  {
   "cell_type": "code",
   "execution_count": 65,
   "metadata": {},
   "outputs": [
    {
     "data": {
      "text/plain": [
       "array([1, 1, 1, ..., 0, 0, 0])"
      ]
     },
     "execution_count": 65,
     "metadata": {},
     "output_type": "execute_result"
    }
   ],
   "source": [
    " # Converting output labels to 0 and 1\n",
    "y_test_label = LabelEncoder().fit_transform(y_test)\n",
    "y_test_label"
   ]
  },
  {
   "cell_type": "code",
   "execution_count": 23,
   "metadata": {},
   "outputs": [],
   "source": [
    "# Create a StandardScaler() model and fit it to the training data\n",
    "X_scaler = StandardScaler().fit(X_train_dumy)"
   ]
  },
  {
   "cell_type": "code",
   "execution_count": 24,
   "metadata": {},
   "outputs": [],
   "source": [
    "# Transform the training and testing data by using the X_scaler and y_scaler models\n",
    "X_train_scaled = X_scaler.transform(X_train_dumy)\n",
    "X_test_scaled = X_scaler.transform(X_test_dumy)"
   ]
  },
  {
   "cell_type": "code",
   "execution_count": 25,
   "metadata": {},
   "outputs": [
    {
     "name": "stdout",
     "output_type": "stream",
     "text": [
      "(12180, 92)\n",
      "(4702, 92)\n"
     ]
    }
   ],
   "source": [
    "#shape of test and train after standard scalar\n",
    "print(X_train_scaled.shape)\n",
    "print(X_test_scaled.shape)"
   ]
  },
  {
   "cell_type": "markdown",
   "metadata": {},
   "source": [
    "## LogisticRegression"
   ]
  },
  {
   "cell_type": "code",
   "execution_count": 26,
   "metadata": {},
   "outputs": [
    {
     "data": {
      "text/plain": [
       "LogisticRegression()"
      ]
     },
     "execution_count": 26,
     "metadata": {},
     "output_type": "execute_result"
    }
   ],
   "source": [
    "# Creating a Logistic Regression model on the scaled data\n",
    "lr= LogisticRegression()\n",
    "\n",
    "# Fit the model to the data\n",
    "lr.fit(X_train_scaled, y_train)"
   ]
  },
  {
   "cell_type": "code",
   "execution_count": 27,
   "metadata": {},
   "outputs": [
    {
     "name": "stdout",
     "output_type": "stream",
     "text": [
      "Training Score: 0.710919540229885\n",
      "Testing Score: 0.7598894087622289\n"
     ]
    }
   ],
   "source": [
    "#printing the accuracy score\n",
    "print(f'Training Score: {lr.score(X_train_scaled, y_train)}')\n",
    "print(f'Testing Score: {lr.score(X_test_scaled, y_test)}')"
   ]
  },
  {
   "cell_type": "code",
   "execution_count": 28,
   "metadata": {},
   "outputs": [
    {
     "data": {
      "text/plain": [
       "array([0.6818555 , 0.67364532, 0.7089491 , 0.72003284, 0.70648604])"
      ]
     },
     "execution_count": 28,
     "metadata": {},
     "output_type": "execute_result"
    }
   ],
   "source": [
    "#score of training set using cross_val_score\n",
    "cross_val_score(lr, X_train_scaled, y_train, cv=5, scoring='accuracy')"
   ]
  },
  {
   "cell_type": "code",
   "execution_count": 29,
   "metadata": {},
   "outputs": [
    {
     "data": {
      "text/plain": [
       "array([[3866, 2224],\n",
       "       [1452, 4638]])"
      ]
     },
     "execution_count": 29,
     "metadata": {},
     "output_type": "execute_result"
    }
   ],
   "source": [
    "#predection on the train set and confusion matrix\n",
    "#cross_val_predict performs k-fold cross-validation but instead of returning evaluation scores it return the prediction made in each fold.\n",
    "y_train_pred=cross_val_predict(lr, X_train_scaled, y_train, cv=5)\n",
    "confusion_matrix(y_train, y_train_pred)"
   ]
  },
  {
   "cell_type": "code",
   "execution_count": 30,
   "metadata": {},
   "outputs": [
    {
     "data": {
      "text/plain": [
       "array([[1764,  587],\n",
       "       [ 542, 1809]])"
      ]
     },
     "execution_count": 30,
     "metadata": {},
     "output_type": "execute_result"
    }
   ],
   "source": [
    "#predection on the test set and confusion matrix\n",
    "y_pred=lr.predict(X_test_scaled)\n",
    "confusion_matrix(y_test, y_pred)"
   ]
  },
  {
   "cell_type": "code",
   "execution_count": 31,
   "metadata": {},
   "outputs": [
    {
     "name": "stdout",
     "output_type": "stream",
     "text": [
      "              precision    recall  f1-score   support\n",
      "\n",
      "   high_risk       0.76      0.75      0.76      2351\n",
      "    low_risk       0.76      0.77      0.76      2351\n",
      "\n",
      "    accuracy                           0.76      4702\n",
      "   macro avg       0.76      0.76      0.76      4702\n",
      "weighted avg       0.76      0.76      0.76      4702\n",
      "\n"
     ]
    }
   ],
   "source": [
    "#classification report\n",
    "print(classification_report(y_test, y_pred))"
   ]
  },
  {
   "cell_type": "markdown",
   "metadata": {},
   "source": [
    "## KNeighbors Classifier"
   ]
  },
  {
   "cell_type": "code",
   "execution_count": 38,
   "metadata": {},
   "outputs": [
    {
     "data": {
      "text/plain": [
       "KNeighborsClassifier(n_neighbors=3)"
      ]
     },
     "execution_count": 38,
     "metadata": {},
     "output_type": "execute_result"
    }
   ],
   "source": [
    "knn=KNeighborsClassifier(n_neighbors=3)\n",
    "knn.fit(X_train_scaled, y_train)"
   ]
  },
  {
   "cell_type": "code",
   "execution_count": 39,
   "metadata": {},
   "outputs": [
    {
     "name": "stdout",
     "output_type": "stream",
     "text": [
      "Training Score: 0.7874384236453202\n",
      "Testing Score: 0.5431731178222033\n"
     ]
    }
   ],
   "source": [
    "#printing the accuracy score\n",
    "print(f'Training Score: {knn.score(X_train_scaled, y_train)}')\n",
    "print(f'Testing Score: {knn.score(X_test_scaled, y_test)}')"
   ]
  },
  {
   "cell_type": "code",
   "execution_count": 45,
   "metadata": {},
   "outputs": [
    {
     "name": "stdout",
     "output_type": "stream",
     "text": [
      "k: 1, Train/Test Score: 1.000/0.525\n",
      "k: 3, Train/Test Score: 0.787/0.543\n",
      "k: 5, Train/Test Score: 0.737/0.553\n",
      "k: 7, Train/Test Score: 0.711/0.561\n",
      "k: 9, Train/Test Score: 0.705/0.571\n",
      "k: 11, Train/Test Score: 0.696/0.569\n",
      "k: 13, Train/Test Score: 0.689/0.576\n",
      "k: 15, Train/Test Score: 0.679/0.575\n",
      "k: 17, Train/Test Score: 0.678/0.570\n",
      "k: 19, Train/Test Score: 0.671/0.578\n"
     ]
    }
   ],
   "source": [
    "# Loop through different k values to find which has the highest accuracy.\n",
    "train_scores = []\n",
    "test_scores = []\n",
    "for k in range(1, 20, 2):\n",
    "    knn = KNeighborsClassifier(n_neighbors=k)\n",
    "    knn.fit(X_train_scaled, y_train)\n",
    "    train_score = knn.score(X_train_scaled, y_train)\n",
    "    test_score = knn.score(X_test_scaled, y_test)\n",
    "    train_scores.append(train_score)\n",
    "    test_scores.append(test_score)\n",
    "    print(f\"k: {k}, Train/Test Score: {train_score:.3f}/{test_score:.3f}\")\n",
    "    "
   ]
  },
  {
   "cell_type": "code",
   "execution_count": 46,
   "metadata": {},
   "outputs": [
    {
     "data": {
      "image/png": "[encoded data removed]",
      "text/plain": [
       "<Figure size 432x288 with 1 Axes>"
      ]
     },
     "metadata": {
      "needs_background": "light"
     },
     "output_type": "display_data"
    }
   ],
   "source": [
    "#plotting knn scores\n",
    "plt.plot(range(1, 20, 2), train_scores, marker='o')\n",
    "plt.plot(range(1, 20, 2), test_scores, marker=\"x\")\n",
    "plt.xlabel(\"k neighbors\")\n",
    "plt.ylabel(\"Testing accuracy Score\")\n",
    "plt.show()"
   ]
  },
  {
   "cell_type": "code",
   "execution_count": 48,
   "metadata": {},
   "outputs": [
    {
     "name": "stdout",
     "output_type": "stream",
     "text": [
      "k=5 Test Acc: 0.562\n"
     ]
    }
   ],
   "source": [
    " # Note that k: 7 provides the best accuracy where the classifier starts to stablize\n",
    "knn = KNeighborsClassifier(n_neighbors=8)\n",
    "knn.fit(X_train_scaled, y_train)\n",
    "print('k=5 Test Acc: %.3f' % knn.score(X_test_scaled, y_test))"
   ]
  },
  {
   "cell_type": "code",
   "execution_count": 49,
   "metadata": {},
   "outputs": [
    {
     "data": {
      "text/plain": [
       "array([0.55213465, 0.5771757 , 0.60303777, 0.59318555, 0.59975369])"
      ]
     },
     "execution_count": 49,
     "metadata": {},
     "output_type": "execute_result"
    }
   ],
   "source": [
    "#score of training set using cross_val_score\n",
    "cross_val_score(knn, X_train_scaled, y_train, cv=5, scoring='accuracy')"
   ]
  },
  {
   "cell_type": "code",
   "execution_count": 50,
   "metadata": {},
   "outputs": [
    {
     "data": {
      "text/plain": [
       "array([[3989, 2101],\n",
       "       [2953, 3137]])"
      ]
     },
     "execution_count": 50,
     "metadata": {},
     "output_type": "execute_result"
    }
   ],
   "source": [
    "#predection on the train set and confusion matrix\n",
    "#cross_val_predict performs k-fold cross-validation but instead of returning evaluation scores it return the prediction made in each fold.\n",
    "y_train_pred=cross_val_predict(knn, X_train_scaled, y_train, cv=5)\n",
    "confusion_matrix(y_train, y_train_pred)"
   ]
  },
  {
   "cell_type": "code",
   "execution_count": 51,
   "metadata": {},
   "outputs": [
    {
     "data": {
      "text/plain": [
       "array([[1764,  587],\n",
       "       [ 542, 1809]])"
      ]
     },
     "execution_count": 51,
     "metadata": {},
     "output_type": "execute_result"
    }
   ],
   "source": [
    "#predection on the test set and confusion matrix\n",
    "y_pred_knn=lr.predict(X_test_scaled)\n",
    "confusion_matrix(y_test, y_pred_knn)"
   ]
  },
  {
   "cell_type": "code",
   "execution_count": 52,
   "metadata": {},
   "outputs": [
    {
     "name": "stdout",
     "output_type": "stream",
     "text": [
      "              precision    recall  f1-score   support\n",
      "\n",
      "   high_risk       0.76      0.75      0.76      2351\n",
      "    low_risk       0.76      0.77      0.76      2351\n",
      "\n",
      "    accuracy                           0.76      4702\n",
      "   macro avg       0.76      0.76      0.76      4702\n",
      "weighted avg       0.76      0.76      0.76      4702\n",
      "\n"
     ]
    }
   ],
   "source": [
    "#classification report\n",
    "print(classification_report(y_test, y_pred_knn))"
   ]
  },
  {
   "cell_type": "markdown",
   "metadata": {},
   "source": [
    "####  Instead of a pure binary output, the KNN model also has a predict_proba() method, which returns probability estimates for given input."
   ]
  },
  {
   "cell_type": "code",
   "execution_count": 70,
   "metadata": {},
   "outputs": [],
   "source": [
    "y_pred_proba = knn.predict_proba(X_test_scaled)[:,1]\n",
    "fpr, tpr, thresholds = roc_curve(y_test_label, y_pred_proba)"
   ]
  },
  {
   "cell_type": "code",
   "execution_count": 71,
   "metadata": {},
   "outputs": [
    {
     "data": {
      "text/plain": [
       "array([0.   , 0.375, 0.5  , ..., 0.5  , 0.625, 0.5  ])"
      ]
     },
     "execution_count": 71,
     "metadata": {},
     "output_type": "execute_result"
    }
   ],
   "source": [
    "y_pred_proba"
   ]
  },
  {
   "cell_type": "code",
   "execution_count": 68,
   "metadata": {},
   "outputs": [
    {
     "data": {
      "image/png": "[encoded data removed]",
      "text/plain": [
       "<Figure size 432x288 with 1 Axes>"
      ]
     },
     "metadata": {
      "needs_background": "light"
     },
     "output_type": "display_data"
    }
   ],
   "source": [
    "plt.figure()\n",
    "plt.plot(fpr, tpr, color='darkorange')\n",
    "plt.plot([0, 1], [0, 1], color='navy', linestyle='--')\n",
    "plt.xlim([0.0, 1.0])\n",
    "plt.ylim([0.0, 1.05])\n",
    "plt.xlabel('False Positive Rate')\n",
    "plt.ylabel('True Positive Rate')\n",
    "plt.show()"
   ]
  },
  {
   "cell_type": "code",
   "execution_count": 67,
   "metadata": {},
   "outputs": [
    {
     "data": {
      "text/plain": [
       "0.5825726258191081"
      ]
     },
     "execution_count": 67,
     "metadata": {},
     "output_type": "execute_result"
    }
   ],
   "source": [
    "# area under the curve (AUC)\n",
    "roc_auc = auc(fpr, tpr)\n",
    "roc_auc"
   ]
  },
  {
   "cell_type": "markdown",
   "metadata": {},
   "source": [
    "## Support Vector Classifier"
   ]
  },
  {
   "cell_type": "code",
   "execution_count": 54,
   "metadata": {},
   "outputs": [
    {
     "data": {
      "text/plain": [
       "SVC(kernel='linear')"
      ]
     },
     "execution_count": 54,
     "metadata": {},
     "output_type": "execute_result"
    }
   ],
   "source": [
    "# Support vector machine linear classifier\n",
    "svc=SVC(kernel='linear')\n",
    "svc.fit(X_train_scaled, y_train)"
   ]
  },
  {
   "cell_type": "code",
   "execution_count": 55,
   "metadata": {},
   "outputs": [
    {
     "name": "stdout",
     "output_type": "stream",
     "text": [
      "Training Score: 0.7233169129720853\n",
      "Testing Score: 0.7528711186729051\n"
     ]
    }
   ],
   "source": [
    "#printing the accuracy score\n",
    "print(f'Training Score: {svc.score(X_train_scaled, y_train)}')\n",
    "print(f'Testing Score: {svc.score(X_test_scaled, y_test)}')"
   ]
  },
  {
   "cell_type": "code",
   "execution_count": 59,
   "metadata": {},
   "outputs": [
    {
     "data": {
      "text/plain": [
       "array([0.68678161, 0.7089491 , 0.71921182, 0.72865353, 0.72413793])"
      ]
     },
     "execution_count": 59,
     "metadata": {},
     "output_type": "execute_result"
    }
   ],
   "source": [
    "#score of training set using cross_val_score\n",
    "cross_val_score(svc, X_train_scaled, y_train, cv=5, scoring='accuracy')"
   ]
  },
  {
   "cell_type": "code",
   "execution_count": 50,
   "metadata": {},
   "outputs": [
    {
     "data": {
      "text/plain": [
       "array([[3989, 2101],\n",
       "       [2953, 3137]])"
      ]
     },
     "execution_count": 50,
     "metadata": {},
     "output_type": "execute_result"
    }
   ],
   "source": [
    "#predection on the train set and confusion matrix\n",
    "#cross_val_predict performs k-fold cross-validation but instead of returning evaluation scores it return the prediction made in each fold.\n",
    "y_train_pred=cross_val_predict(svc, X_train_scaled, y_train, cv=5)\n",
    "confusion_matrix(y_train, y_train_pred)"
   ]
  },
  {
   "cell_type": "code",
   "execution_count": 61,
   "metadata": {},
   "outputs": [
    {
     "data": {
      "text/plain": [
       "array([[1593,  758],\n",
       "       [ 404, 1947]])"
      ]
     },
     "execution_count": 61,
     "metadata": {},
     "output_type": "execute_result"
    }
   ],
   "source": [
    "#predection on the test set and confusion matrix\n",
    "y_pred_svc=svc.predict(X_test_scaled)\n",
    "confusion_matrix(y_test, y_pred_svc)"
   ]
  },
  {
   "cell_type": "code",
   "execution_count": 62,
   "metadata": {},
   "outputs": [
    {
     "name": "stdout",
     "output_type": "stream",
     "text": [
      "              precision    recall  f1-score   support\n",
      "\n",
      "   high_risk       0.80      0.68      0.73      2351\n",
      "    low_risk       0.72      0.83      0.77      2351\n",
      "\n",
      "    accuracy                           0.75      4702\n",
      "   macro avg       0.76      0.75      0.75      4702\n",
      "weighted avg       0.76      0.75      0.75      4702\n",
      "\n"
     ]
    }
   ],
   "source": [
    "#classification report\n",
    "print(classification_report(y_test, y_pred_svc))"
   ]
  },
  {
   "cell_type": "code",
   "execution_count": null,
   "metadata": {},
   "outputs": [],
   "source": []
  },
  {
   "cell_type": "markdown",
   "metadata": {},
   "source": [
    "## Decision Tree "
   ]
  },
  {
   "cell_type": "code",
   "execution_count": 74,
   "metadata": {},
   "outputs": [
    {
     "data": {
      "text/plain": [
       "DecisionTreeClassifier()"
      ]
     },
     "execution_count": 74,
     "metadata": {},
     "output_type": "execute_result"
    }
   ],
   "source": [
    "dt = DecisionTreeClassifier()\n",
    "dt.fit(X_train_scaled, y_train)"
   ]
  },
  {
   "cell_type": "code",
   "execution_count": 75,
   "metadata": {},
   "outputs": [
    {
     "name": "stdout",
     "output_type": "stream",
     "text": [
      "Training Score: 1.0\n",
      "Testing Score: 0.49404508719693746\n"
     ]
    }
   ],
   "source": [
    "#printing the accuracy score\n",
    "print(f'Training Score: {dt.score(X_train_scaled, y_train)}')\n",
    "print(f'Testing Score: {dt.score(X_test_scaled, y_test)}')"
   ]
  },
  {
   "cell_type": "code",
   "execution_count": 76,
   "metadata": {},
   "outputs": [
    {
     "data": {
      "text/plain": [
       "array([[1593,  758],\n",
       "       [ 404, 1947]])"
      ]
     },
     "execution_count": 76,
     "metadata": {},
     "output_type": "execute_result"
    }
   ],
   "source": [
    "#predection on the test set and confusion matrix\n",
    "y_pred_dt=svc.predict(X_test_scaled)\n",
    "confusion_matrix(y_test, y_pred_dt)"
   ]
  },
  {
   "cell_type": "code",
   "execution_count": 77,
   "metadata": {},
   "outputs": [
    {
     "name": "stdout",
     "output_type": "stream",
     "text": [
      "              precision    recall  f1-score   support\n",
      "\n",
      "   high_risk       0.80      0.68      0.73      2351\n",
      "    low_risk       0.72      0.83      0.77      2351\n",
      "\n",
      "    accuracy                           0.75      4702\n",
      "   macro avg       0.76      0.75      0.75      4702\n",
      "weighted avg       0.76      0.75      0.75      4702\n",
      "\n"
     ]
    }
   ],
   "source": [
    "#classification report\n",
    "print(classification_report(y_test, y_pred_dt))"
   ]
  },
  {
   "cell_type": "markdown",
   "metadata": {},
   "source": [
    "## Bagging"
   ]
  },
  {
   "cell_type": "markdown",
   "metadata": {},
   "source": [
    "## a. Random Forest Classifier\n",
    "Instead of having one decision tree, we make 50o random trees and average their output."
   ]
  },
  {
   "cell_type": "code",
   "execution_count": 78,
   "metadata": {},
   "outputs": [
    {
     "data": {
      "text/plain": [
       "RandomForestClassifier(n_estimators=500, random_state=1)"
      ]
     },
     "execution_count": 78,
     "metadata": {},
     "output_type": "execute_result"
    }
   ],
   "source": [
    "#Random Forest classifier model\n",
    "rf=RandomForestClassifier(random_state=1, n_estimators=500)\n",
    "rf.fit(X_train_scaled, y_train)"
   ]
  },
  {
   "cell_type": "code",
   "execution_count": 33,
   "metadata": {},
   "outputs": [
    {
     "name": "stdout",
     "output_type": "stream",
     "text": [
      "Training Score: 1.0\n",
      "Testing Score: 0.6480221182475542\n"
     ]
    }
   ],
   "source": [
    "#printing the accuracy score\n",
    "print(f'Training Score: {rf.score(X_train_scaled, y_train)}')\n",
    "print(f'Testing Score: {rf.score(X_test_scaled, y_test)}')"
   ]
  },
  {
   "cell_type": "code",
   "execution_count": 34,
   "metadata": {},
   "outputs": [
    {
     "data": {
      "text/plain": [
       "array([0.65640394, 0.75410509, 0.80541872, 0.83045977, 0.81609195])"
      ]
     },
     "execution_count": 34,
     "metadata": {},
     "output_type": "execute_result"
    }
   ],
   "source": [
    "#score of training set using cross_val_score\n",
    "cross_val_score(rf, X_train_scaled, y_train, cv=5, scoring='accuracy')"
   ]
  },
  {
   "cell_type": "code",
   "execution_count": 110,
   "metadata": {},
   "outputs": [
    {
     "data": {
      "text/plain": [
       "array([[4601, 1489],\n",
       "       [1362, 4728]])"
      ]
     },
     "execution_count": 110,
     "metadata": {},
     "output_type": "execute_result"
    }
   ],
   "source": [
    "#predection on the train set and confusion matrix\n",
    "#cross_val_predict performs k-fold cross-validation but instead of returning evaluation scores it return the prediction made in each fold.\n",
    "y_train_pred=cross_val_predict(rf, X_train_scaled, y_train, cv=5)\n",
    "confusion_matrix(y_train, y_train_pred)"
   ]
  },
  {
   "cell_type": "code",
   "execution_count": 35,
   "metadata": {},
   "outputs": [
    {
     "data": {
      "text/plain": [
       "array([[1960,  391],\n",
       "       [1264, 1087]])"
      ]
     },
     "execution_count": 35,
     "metadata": {},
     "output_type": "execute_result"
    }
   ],
   "source": [
    "#predection on the test set and confusion matrix\n",
    "y_pred_rf=rf.predict(X_test_scaled)\n",
    "confusion_matrix(y_test, y_pred_rf)"
   ]
  },
  {
   "cell_type": "code",
   "execution_count": 36,
   "metadata": {},
   "outputs": [
    {
     "name": "stdout",
     "output_type": "stream",
     "text": [
      "              precision    recall  f1-score   support\n",
      "\n",
      "   high_risk       0.61      0.83      0.70      2351\n",
      "    low_risk       0.74      0.46      0.57      2351\n",
      "\n",
      "    accuracy                           0.65      4702\n",
      "   macro avg       0.67      0.65      0.64      4702\n",
      "weighted avg       0.67      0.65      0.64      4702\n",
      "\n"
     ]
    }
   ],
   "source": [
    "#classification report\n",
    "print(classification_report(y_test, y_pred_rf))"
   ]
  },
  {
   "cell_type": "code",
   "execution_count": null,
   "metadata": {},
   "outputs": [],
   "source": []
  },
  {
   "cell_type": "markdown",
   "metadata": {},
   "source": [
    "## b. Extremely Random Trees\n",
    "Changing the behavior of the decision trees so that they randomly choose their splits"
   ]
  },
  {
   "cell_type": "code",
   "execution_count": 81,
   "metadata": {},
   "outputs": [
    {
     "data": {
      "text/plain": [
       "ExtraTreesClassifier(n_estimators=500, random_state=1)"
      ]
     },
     "execution_count": 81,
     "metadata": {},
     "output_type": "execute_result"
    }
   ],
   "source": [
    "et = ExtraTreesClassifier(random_state=1, n_estimators=500)\n",
    "et.fit(X_train_scaled, y_train)"
   ]
  },
  {
   "cell_type": "code",
   "execution_count": 82,
   "metadata": {},
   "outputs": [
    {
     "name": "stdout",
     "output_type": "stream",
     "text": [
      "Training Score: 1.0\n",
      "Testing Score: 0.5616758826031476\n"
     ]
    }
   ],
   "source": [
    "#printing the accuracy score\n",
    "print(f'Training Score: {et.score(X_train_scaled, y_train)}')\n",
    "print(f'Testing Score: {et.score(X_test_scaled, y_test)}')"
   ]
  },
  {
   "cell_type": "code",
   "execution_count": 83,
   "metadata": {},
   "outputs": [
    {
     "data": {
      "text/plain": [
       "array([[1436,  915],\n",
       "       [1146, 1205]])"
      ]
     },
     "execution_count": 83,
     "metadata": {},
     "output_type": "execute_result"
    }
   ],
   "source": [
    "#predection on the test set and confusion matrix\n",
    "y_pred_et=et.predict(X_test_scaled)\n",
    "confusion_matrix(y_test, y_pred_et)"
   ]
  },
  {
   "cell_type": "code",
   "execution_count": 84,
   "metadata": {},
   "outputs": [
    {
     "name": "stdout",
     "output_type": "stream",
     "text": [
      "              precision    recall  f1-score   support\n",
      "\n",
      "   high_risk       0.56      0.61      0.58      2351\n",
      "    low_risk       0.57      0.51      0.54      2351\n",
      "\n",
      "    accuracy                           0.56      4702\n",
      "   macro avg       0.56      0.56      0.56      4702\n",
      "weighted avg       0.56      0.56      0.56      4702\n",
      "\n"
     ]
    }
   ],
   "source": [
    "#classification report\n",
    "print(classification_report(y_test, y_pred_et))"
   ]
  },
  {
   "cell_type": "code",
   "execution_count": null,
   "metadata": {},
   "outputs": [],
   "source": []
  },
  {
   "cell_type": "markdown",
   "metadata": {},
   "source": [
    "## Bosting\n",
    "In Bosting each new weak learner is trained on data that skews the training dataset to data points that the previous weak learners didn't estimate well."
   ]
  },
  {
   "cell_type": "code",
   "execution_count": 86,
   "metadata": {},
   "outputs": [
    {
     "data": {
      "text/plain": [
       "AdaBoostClassifier(base_estimator=DecisionTreeClassifier(max_depth=2),\n",
       "                   random_state=1)"
      ]
     },
     "execution_count": 86,
     "metadata": {},
     "output_type": "execute_result"
    }
   ],
   "source": [
    "ab = AdaBoostClassifier(random_state=1, n_estimators=50, base_estimator=DecisionTreeClassifier(max_depth=2))\n",
    "ab.fit(X_train_scaled, y_train)"
   ]
  },
  {
   "cell_type": "code",
   "execution_count": 88,
   "metadata": {},
   "outputs": [
    {
     "name": "stdout",
     "output_type": "stream",
     "text": [
      "Training Score: 0.8114121510673235\n",
      "Testing Score: 0.5942152275627393\n"
     ]
    }
   ],
   "source": [
    "#printing the accuracy score\n",
    "print(f'Training Score: {ab.score(X_train_scaled, y_train)}')\n",
    "print(f'Testing Score: {ab.score(X_test_scaled, y_test)}')"
   ]
  },
  {
   "cell_type": "code",
   "execution_count": 89,
   "metadata": {},
   "outputs": [
    {
     "data": {
      "text/plain": [
       "array([[1565,  786],\n",
       "       [1122, 1229]])"
      ]
     },
     "execution_count": 89,
     "metadata": {},
     "output_type": "execute_result"
    }
   ],
   "source": [
    "#predection on the test set and confusion matrix\n",
    "y_pred_ab=ab.predict(X_test_scaled)\n",
    "confusion_matrix(y_test, y_pred_ab)"
   ]
  },
  {
   "cell_type": "code",
   "execution_count": 90,
   "metadata": {},
   "outputs": [
    {
     "name": "stdout",
     "output_type": "stream",
     "text": [
      "              precision    recall  f1-score   support\n",
      "\n",
      "   high_risk       0.58      0.67      0.62      2351\n",
      "    low_risk       0.61      0.52      0.56      2351\n",
      "\n",
      "    accuracy                           0.59      4702\n",
      "   macro avg       0.60      0.59      0.59      4702\n",
      "weighted avg       0.60      0.59      0.59      4702\n",
      "\n"
     ]
    }
   ],
   "source": [
    "#classification report\n",
    "print(classification_report(y_test, y_pred_ab))"
   ]
  },
  {
   "cell_type": "code",
   "execution_count": null,
   "metadata": {},
   "outputs": [],
   "source": []
  }
 ],
 "metadata": {
  "kernelspec": {
   "display_name": "Python 3 (ipykernel)",
   "language": "python",
   "name": "python3"
  },
  "language_info": {
   "codemirror_mode": {
    "name": "ipython",
    "version": 3
   },
   "file_extension": ".py",
   "mimetype": "text/x-python",
   "name": "python",
   "nbconvert_exporter": "python",
   "pygments_lexer": "ipython3",
   "version": "3.8.10"
  }
 },
 "nbformat": 4,
 "nbformat_minor": 4
}
