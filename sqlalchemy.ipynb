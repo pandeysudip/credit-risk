{
 "cells": [
  {
   "cell_type": "markdown",
   "metadata": {},
   "source": [
    "# Using SQLAlchemy"
   ]
  },
  {
   "cell_type": "code",
   "execution_count": 1,
   "metadata": {},
   "outputs": [],
   "source": [
    "import sqlalchemy as db\n",
    "import pandas as pd\n",
    "import os\n",
    "import csv\n",
    "import seaborn as sns\n",
    "import matplotlib.pyplot as plt"
   ]
  },
  {
   "cell_type": "markdown",
   "metadata": {},
   "source": [
    "## Connecting to database"
   ]
  },
  {
   "cell_type": "code",
   "execution_count": 2,
   "metadata": {},
   "outputs": [],
   "source": [
    "# connecting to database sql_challenge created in postgresql\n",
    "engine = db.create_engine('postgresql://localhost:5432/credit-risk')\n",
    "connection = engine.connect()\n",
    "metadata = db.MetaData()"
   ]
  },
  {
   "cell_type": "code",
   "execution_count": 3,
   "metadata": {},
   "outputs": [
    {
     "name": "stderr",
     "output_type": "stream",
     "text": [
      "/var/folders/ld/_spx9cwj74z4zm921xp1zssh0000gn/T/ipykernel_1935/3558990862.py:2: SADeprecationWarning: The Engine.table_names() method is deprecated and will be removed in a future release.  Please refer to Inspector.get_table_names(). (deprecated since: 1.4)\n",
      "  engine.table_names()\n"
     ]
    },
    {
     "data": {
      "text/plain": [
       "['train', 'test', 'train_dumy', 'test_dumy']"
      ]
     },
     "execution_count": 3,
     "metadata": {},
     "output_type": "execute_result"
    }
   ],
   "source": [
    "#to find all the tables for the database (it should be empty)\n",
    "engine.table_names()"
   ]
  },
  {
   "cell_type": "markdown",
   "metadata": {},
   "source": [
    "## Also can use to_sql to insert data "
   ]
  },
  {
   "cell_type": "code",
   "execution_count": 4,
   "metadata": {},
   "outputs": [],
   "source": [
    "#For table train\n",
    "x_train_path=os.path.join('Resources', 'cleaned-data', 'x_train.csv')\n",
    "\n",
    "with open(x_train_path, 'r') as train:\n",
    "    x_train = pd.read_csv(train)\n",
    "x_train.to_sql('train', con=engine, index=False, if_exists='replace')\n",
    "\n",
    "\n",
    "#For table test\n",
    "x_test_path=os.path.join('Resources', 'cleaned-data', 'x_test.csv')\n",
    "\n",
    "with open(x_test_path, 'r') as test:\n",
    "    x_test = pd.read_csv(test)\n",
    "x_test.to_sql('test', con=engine, index=False, if_exists='replace')\n",
    "\n",
    "               #For table train_dumy\n",
    "x_train_dumy_path=os.path.join('Resources', 'cleaned-data', 'x_train_dumy.csv')\n",
    "\n",
    "with open(x_train_dumy_path, 'r') as train_dumy:\n",
    "    x_train_dumy = pd.read_csv(train_dumy)\n",
    "x_train_dumy.to_sql('train_dumy', con=engine, index=False, if_exists='replace')\n",
    "\n",
    "#For table test_dumy\n",
    "x_test_dumy_path=os.path.join('Resources', 'cleaned-data', 'x_test_dumy.csv')\n",
    "\n",
    "with open(x_test_dumy_path, 'r') as test_dumy:\n",
    "    x_test_dumy = pd.read_csv(test_dumy)\n",
    "x_test_dumy.to_sql('test_dumy', con=engine, index=False, if_exists='replace')\n"
   ]
  },
  {
   "cell_type": "code",
   "execution_count": 5,
   "metadata": {},
   "outputs": [],
   "source": [
    "#getting the tables from database\n",
    "test = db.Table('train', metadata, autoload=True, autoload_with=engine)\n",
    "train = db.Table('test', metadata, autoload=True, autoload_with=engine)\n",
    "test_dumy = db.Table('train_dumy', metadata, autoload=True, autoload_with=engine)\n",
    "train_dumy = db.Table('test_dumy', metadata, autoload=True, autoload_with=engine)\n"
   ]
  },
  {
   "cell_type": "code",
   "execution_count": 6,
   "metadata": {},
   "outputs": [
    {
     "data": {
      "text/plain": [
       "['loan_amnt',\n",
       " 'int_rate',\n",
       " 'installment',\n",
       " 'annual_inc',\n",
       " 'home_ownership',\n",
       " 'verification_status',\n",
       " 'pymnt_plan',\n",
       " 'dti',\n",
       " 'delinq_2yrs',\n",
       " 'inq_last_6mths',\n",
       " 'open_acc',\n",
       " 'pub_rec',\n",
       " 'revol_bal',\n",
       " 'total_acc',\n",
       " 'initial_list_status',\n",
       " 'out_prncp',\n",
       " 'out_prncp_inv',\n",
       " 'total_pymnt',\n",
       " 'total_pymnt_inv',\n",
       " 'total_rec_prncp',\n",
       " 'total_rec_int',\n",
       " 'total_rec_late_fee',\n",
       " 'recoveries',\n",
       " 'collection_recovery_fee',\n",
       " 'last_pymnt_amnt',\n",
       " 'collections_12_mths_ex_med',\n",
       " 'policy_code',\n",
       " 'application_type',\n",
       " 'acc_now_delinq',\n",
       " 'tot_coll_amt',\n",
       " 'tot_cur_bal',\n",
       " 'open_acc_6m',\n",
       " 'open_act_il',\n",
       " 'open_il_12m',\n",
       " 'open_il_24m',\n",
       " 'mths_since_rcnt_il',\n",
       " 'total_bal_il',\n",
       " 'il_util',\n",
       " 'open_rv_12m',\n",
       " 'open_rv_24m',\n",
       " 'max_bal_bc',\n",
       " 'all_util',\n",
       " 'total_rev_hi_lim',\n",
       " 'inq_fi',\n",
       " 'total_cu_tl',\n",
       " 'inq_last_12m',\n",
       " 'acc_open_past_24mths',\n",
       " 'avg_cur_bal',\n",
       " 'bc_open_to_buy',\n",
       " 'bc_util',\n",
       " 'chargeoff_within_12_mths',\n",
       " 'delinq_amnt',\n",
       " 'mo_sin_old_il_acct',\n",
       " 'mo_sin_old_rev_tl_op',\n",
       " 'mo_sin_rcnt_rev_tl_op',\n",
       " 'mo_sin_rcnt_tl',\n",
       " 'mort_acc',\n",
       " 'mths_since_recent_bc',\n",
       " 'mths_since_recent_inq',\n",
       " 'num_accts_ever_120_pd',\n",
       " 'num_actv_bc_tl',\n",
       " 'num_actv_rev_tl',\n",
       " 'num_bc_sats',\n",
       " 'num_bc_tl',\n",
       " 'num_il_tl',\n",
       " 'num_op_rev_tl',\n",
       " 'num_rev_accts',\n",
       " 'num_rev_tl_bal_gt_0',\n",
       " 'num_sats',\n",
       " 'num_tl_120dpd_2m',\n",
       " 'num_tl_30dpd',\n",
       " 'num_tl_90g_dpd_24m',\n",
       " 'num_tl_op_past_12m',\n",
       " 'pct_tl_nvr_dlq',\n",
       " 'percent_bc_gt_75',\n",
       " 'pub_rec_bankruptcies',\n",
       " 'tax_liens',\n",
       " 'tot_hi_cred_lim',\n",
       " 'total_bal_ex_mort',\n",
       " 'total_bc_limit',\n",
       " 'total_il_high_credit_limit',\n",
       " 'hardship_flag',\n",
       " 'debt_settlement_flag']"
      ]
     },
     "execution_count": 6,
     "metadata": {},
     "output_type": "execute_result"
    }
   ],
   "source": [
    "# columns of census table\n",
    "train.c.keys()"
   ]
  },
  {
   "cell_type": "code",
   "execution_count": null,
   "metadata": {},
   "outputs": [],
   "source": []
  },
  {
   "cell_type": "code",
   "execution_count": null,
   "metadata": {},
   "outputs": [],
   "source": []
  },
  {
   "cell_type": "markdown",
   "metadata": {},
   "source": [
    "# Using SQLAlchemy ORM"
   ]
  },
  {
   "cell_type": "markdown",
   "metadata": {},
   "source": [
    "# Reflect Tables into SQLAlchemy ORM"
   ]
  },
  {
   "cell_type": "code",
   "execution_count": 7,
   "metadata": {},
   "outputs": [],
   "source": [
    "# Python SQL toolkit and Object Relational Mapper\n",
    "from sqlalchemy.ext.automap import automap_base\n",
    "from sqlalchemy.orm import Session\n",
    "from sqlalchemy import create_engine, func, inspect, and_, or_"
   ]
  },
  {
   "cell_type": "code",
   "execution_count": 8,
   "metadata": {},
   "outputs": [],
   "source": [
    "# create engine to hawaii.sqlite\n",
    "engine = create_engine('postgresql://localhost:5432/credit-risk')\n",
    "conn=engine.connect()"
   ]
  },
  {
   "cell_type": "code",
   "execution_count": 9,
   "metadata": {},
   "outputs": [
    {
     "data": {
      "text/plain": [
       "['train', 'test', 'train_dumy', 'test_dumy']"
      ]
     },
     "execution_count": 9,
     "metadata": {},
     "output_type": "execute_result"
    }
   ],
   "source": [
    "# Use the Inspector to explore the database and print the table names\n",
    "inspector=inspect(engine)\n",
    "inspector.get_table_names()"
   ]
  },
  {
   "cell_type": "code",
   "execution_count": 10,
   "metadata": {},
   "outputs": [
    {
     "name": "stdout",
     "output_type": "stream",
     "text": [
      "**************************************************\n",
      "loan_amnt DOUBLE_PRECISION\n",
      "int_rate DOUBLE_PRECISION\n",
      "installment DOUBLE_PRECISION\n",
      "annual_inc DOUBLE_PRECISION\n",
      "home_ownership TEXT\n",
      "verification_status TEXT\n",
      "pymnt_plan TEXT\n",
      "dti DOUBLE_PRECISION\n",
      "delinq_2yrs DOUBLE_PRECISION\n",
      "inq_last_6mths DOUBLE_PRECISION\n",
      "open_acc DOUBLE_PRECISION\n",
      "pub_rec DOUBLE_PRECISION\n",
      "revol_bal DOUBLE_PRECISION\n",
      "total_acc DOUBLE_PRECISION\n",
      "initial_list_status TEXT\n",
      "out_prncp DOUBLE_PRECISION\n",
      "out_prncp_inv DOUBLE_PRECISION\n",
      "total_pymnt DOUBLE_PRECISION\n",
      "total_pymnt_inv DOUBLE_PRECISION\n",
      "total_rec_prncp DOUBLE_PRECISION\n",
      "total_rec_int DOUBLE_PRECISION\n",
      "total_rec_late_fee DOUBLE_PRECISION\n",
      "recoveries DOUBLE_PRECISION\n",
      "collection_recovery_fee DOUBLE_PRECISION\n",
      "last_pymnt_amnt DOUBLE_PRECISION\n",
      "collections_12_mths_ex_med DOUBLE_PRECISION\n",
      "policy_code DOUBLE_PRECISION\n",
      "application_type TEXT\n",
      "acc_now_delinq DOUBLE_PRECISION\n",
      "tot_coll_amt DOUBLE_PRECISION\n",
      "tot_cur_bal DOUBLE_PRECISION\n",
      "open_acc_6m DOUBLE_PRECISION\n",
      "open_act_il DOUBLE_PRECISION\n",
      "open_il_12m DOUBLE_PRECISION\n",
      "open_il_24m DOUBLE_PRECISION\n",
      "mths_since_rcnt_il DOUBLE_PRECISION\n",
      "total_bal_il DOUBLE_PRECISION\n",
      "il_util DOUBLE_PRECISION\n",
      "open_rv_12m DOUBLE_PRECISION\n",
      "open_rv_24m DOUBLE_PRECISION\n",
      "max_bal_bc DOUBLE_PRECISION\n",
      "all_util DOUBLE_PRECISION\n",
      "total_rev_hi_lim DOUBLE_PRECISION\n",
      "inq_fi DOUBLE_PRECISION\n",
      "total_cu_tl DOUBLE_PRECISION\n",
      "inq_last_12m DOUBLE_PRECISION\n",
      "acc_open_past_24mths DOUBLE_PRECISION\n",
      "avg_cur_bal DOUBLE_PRECISION\n",
      "bc_open_to_buy DOUBLE_PRECISION\n",
      "bc_util DOUBLE_PRECISION\n",
      "chargeoff_within_12_mths DOUBLE_PRECISION\n",
      "delinq_amnt DOUBLE_PRECISION\n",
      "mo_sin_old_il_acct DOUBLE_PRECISION\n",
      "mo_sin_old_rev_tl_op DOUBLE_PRECISION\n",
      "mo_sin_rcnt_rev_tl_op DOUBLE_PRECISION\n",
      "mo_sin_rcnt_tl DOUBLE_PRECISION\n",
      "mort_acc DOUBLE_PRECISION\n",
      "mths_since_recent_bc DOUBLE_PRECISION\n",
      "mths_since_recent_inq DOUBLE_PRECISION\n",
      "num_accts_ever_120_pd DOUBLE_PRECISION\n",
      "num_actv_bc_tl DOUBLE_PRECISION\n",
      "num_actv_rev_tl DOUBLE_PRECISION\n",
      "num_bc_sats DOUBLE_PRECISION\n",
      "num_bc_tl DOUBLE_PRECISION\n",
      "num_il_tl DOUBLE_PRECISION\n",
      "num_op_rev_tl DOUBLE_PRECISION\n",
      "num_rev_accts DOUBLE_PRECISION\n",
      "num_rev_tl_bal_gt_0 DOUBLE_PRECISION\n",
      "num_sats DOUBLE_PRECISION\n",
      "num_tl_120dpd_2m DOUBLE_PRECISION\n",
      "num_tl_30dpd DOUBLE_PRECISION\n",
      "num_tl_90g_dpd_24m DOUBLE_PRECISION\n",
      "num_tl_op_past_12m DOUBLE_PRECISION\n",
      "pct_tl_nvr_dlq DOUBLE_PRECISION\n",
      "percent_bc_gt_75 DOUBLE_PRECISION\n",
      "pub_rec_bankruptcies DOUBLE_PRECISION\n",
      "tax_liens DOUBLE_PRECISION\n",
      "tot_hi_cred_lim DOUBLE_PRECISION\n",
      "total_bal_ex_mort DOUBLE_PRECISION\n",
      "total_bc_limit DOUBLE_PRECISION\n",
      "total_il_high_credit_limit DOUBLE_PRECISION\n",
      "hardship_flag TEXT\n",
      "debt_settlement_flag TEXT\n",
      "\n",
      "**************************************************\n",
      "loan_amnt DOUBLE_PRECISION\n",
      "int_rate DOUBLE_PRECISION\n",
      "installment DOUBLE_PRECISION\n",
      "annual_inc DOUBLE_PRECISION\n",
      "home_ownership TEXT\n",
      "verification_status TEXT\n",
      "pymnt_plan TEXT\n",
      "dti DOUBLE_PRECISION\n",
      "delinq_2yrs DOUBLE_PRECISION\n",
      "inq_last_6mths DOUBLE_PRECISION\n",
      "open_acc DOUBLE_PRECISION\n",
      "pub_rec DOUBLE_PRECISION\n",
      "revol_bal DOUBLE_PRECISION\n",
      "total_acc DOUBLE_PRECISION\n",
      "initial_list_status TEXT\n",
      "out_prncp DOUBLE_PRECISION\n",
      "out_prncp_inv DOUBLE_PRECISION\n",
      "total_pymnt DOUBLE_PRECISION\n",
      "total_pymnt_inv DOUBLE_PRECISION\n",
      "total_rec_prncp DOUBLE_PRECISION\n",
      "total_rec_int DOUBLE_PRECISION\n",
      "total_rec_late_fee DOUBLE_PRECISION\n",
      "recoveries DOUBLE_PRECISION\n",
      "collection_recovery_fee DOUBLE_PRECISION\n",
      "last_pymnt_amnt DOUBLE_PRECISION\n",
      "collections_12_mths_ex_med DOUBLE_PRECISION\n",
      "policy_code DOUBLE_PRECISION\n",
      "application_type TEXT\n",
      "acc_now_delinq DOUBLE_PRECISION\n",
      "tot_coll_amt DOUBLE_PRECISION\n",
      "tot_cur_bal DOUBLE_PRECISION\n",
      "open_acc_6m DOUBLE_PRECISION\n",
      "open_act_il DOUBLE_PRECISION\n",
      "open_il_12m DOUBLE_PRECISION\n",
      "open_il_24m DOUBLE_PRECISION\n",
      "mths_since_rcnt_il DOUBLE_PRECISION\n",
      "total_bal_il DOUBLE_PRECISION\n",
      "il_util DOUBLE_PRECISION\n",
      "open_rv_12m DOUBLE_PRECISION\n",
      "open_rv_24m DOUBLE_PRECISION\n",
      "max_bal_bc DOUBLE_PRECISION\n",
      "all_util DOUBLE_PRECISION\n",
      "total_rev_hi_lim DOUBLE_PRECISION\n",
      "inq_fi DOUBLE_PRECISION\n",
      "total_cu_tl DOUBLE_PRECISION\n",
      "inq_last_12m DOUBLE_PRECISION\n",
      "acc_open_past_24mths DOUBLE_PRECISION\n",
      "avg_cur_bal DOUBLE_PRECISION\n",
      "bc_open_to_buy DOUBLE_PRECISION\n",
      "bc_util DOUBLE_PRECISION\n",
      "chargeoff_within_12_mths DOUBLE_PRECISION\n",
      "delinq_amnt DOUBLE_PRECISION\n",
      "mo_sin_old_il_acct DOUBLE_PRECISION\n",
      "mo_sin_old_rev_tl_op DOUBLE_PRECISION\n",
      "mo_sin_rcnt_rev_tl_op DOUBLE_PRECISION\n",
      "mo_sin_rcnt_tl DOUBLE_PRECISION\n",
      "mort_acc DOUBLE_PRECISION\n",
      "mths_since_recent_bc DOUBLE_PRECISION\n",
      "mths_since_recent_inq DOUBLE_PRECISION\n",
      "num_accts_ever_120_pd DOUBLE_PRECISION\n",
      "num_actv_bc_tl DOUBLE_PRECISION\n",
      "num_actv_rev_tl DOUBLE_PRECISION\n",
      "num_bc_sats DOUBLE_PRECISION\n",
      "num_bc_tl DOUBLE_PRECISION\n",
      "num_il_tl DOUBLE_PRECISION\n",
      "num_op_rev_tl DOUBLE_PRECISION\n",
      "num_rev_accts DOUBLE_PRECISION\n",
      "num_rev_tl_bal_gt_0 DOUBLE_PRECISION\n",
      "num_sats DOUBLE_PRECISION\n",
      "num_tl_120dpd_2m DOUBLE_PRECISION\n",
      "num_tl_30dpd DOUBLE_PRECISION\n",
      "num_tl_90g_dpd_24m DOUBLE_PRECISION\n",
      "num_tl_op_past_12m DOUBLE_PRECISION\n",
      "pct_tl_nvr_dlq DOUBLE_PRECISION\n",
      "percent_bc_gt_75 DOUBLE_PRECISION\n",
      "pub_rec_bankruptcies DOUBLE_PRECISION\n",
      "tax_liens DOUBLE_PRECISION\n",
      "tot_hi_cred_lim DOUBLE_PRECISION\n",
      "total_bal_ex_mort DOUBLE_PRECISION\n",
      "total_bc_limit DOUBLE_PRECISION\n",
      "total_il_high_credit_limit DOUBLE_PRECISION\n",
      "hardship_flag TEXT\n",
      "debt_settlement_flag TEXT\n"
     ]
    }
   ],
   "source": [
    "# Use Inspector to print the column names and types\n",
    "\n",
    "print('*'*50)\n",
    "columns=inspector.get_columns('train')\n",
    "for column in columns:\n",
    "    print(column['name'], column['type'])\n",
    "\n",
    "print('')\n",
    "\n",
    "print('*'*50)\n",
    "columns=inspector.get_columns('test')\n",
    "for column in columns:\n",
    "    print(column['name'], column['type'])\n",
    "    \n"
   ]
  },
  {
   "cell_type": "code",
   "execution_count": 11,
   "metadata": {},
   "outputs": [],
   "source": [
    "# reflect an existing database into a new model\n",
    "Base = automap_base()\n",
    "Base.prepare(engine, reflect=True)"
   ]
  },
  {
   "cell_type": "code",
   "execution_count": 12,
   "metadata": {},
   "outputs": [
    {
     "data": {
      "text/plain": [
       "[]"
      ]
     },
     "execution_count": 12,
     "metadata": {},
     "output_type": "execute_result"
    }
   ],
   "source": [
    "# View all of the classes that automap found\n",
    "Base.classes.keys()"
   ]
  },
  {
   "cell_type": "code",
   "execution_count": null,
   "metadata": {},
   "outputs": [],
   "source": [
    "# Save references to each table\n",
    "Train = Base.classes.train\n",
    "Test = Base.classes.test\n",
    "Train_dumy=Base.classes.train_dumy\n",
    "Test_dumy=Base.classes.test_dumy"
   ]
  },
  {
   "cell_type": "code",
   "execution_count": null,
   "metadata": {},
   "outputs": [],
   "source": [
    "# Create our session (link) from Python to the DB\n",
    "session = Session(engine)"
   ]
  },
  {
   "cell_type": "markdown",
   "metadata": {},
   "source": [
    "# Exploring election table"
   ]
  },
  {
   "cell_type": "code",
   "execution_count": null,
   "metadata": {},
   "outputs": [],
   "source": [
    "#using pd.read_sql to select and display (also able to see columns name)\n",
    "df_election=pd.read_sql(\"SELECT * FROM train\", conn)\n",
    "\n",
    "df_election.head()"
   ]
  },
  {
   "cell_type": "markdown",
   "metadata": {},
   "source": [
    "# Close session"
   ]
  },
  {
   "cell_type": "code",
   "execution_count": null,
   "metadata": {},
   "outputs": [],
   "source": [
    "# Close Session\n",
    "session.close()"
   ]
  }
 ],
 "metadata": {
  "kernelspec": {
   "display_name": "Python 3 (ipykernel)",
   "language": "python",
   "name": "python3"
  },
  "language_info": {
   "codemirror_mode": {
    "name": "ipython",
    "version": 3
   },
   "file_extension": ".py",
   "mimetype": "text/x-python",
   "name": "python",
   "nbconvert_exporter": "python",
   "pygments_lexer": "ipython3",
   "version": "3.8.10"
  },
  "metadata": {
   "interpreter": {
    "hash": "082e9a3bcad0a290d0001e938aa60b99250c6c2ef33a923c00b70f9826caf4b7"
   }
  }
 },
 "nbformat": 4,
 "nbformat_minor": 4
}
