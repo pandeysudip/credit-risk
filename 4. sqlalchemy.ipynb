{
 "cells": [
  {
   "cell_type": "markdown",
   "metadata": {},
   "source": [
    "# Using SQLAlchemy"
   ]
  },
  {
   "cell_type": "code",
   "execution_count": 29,
   "metadata": {},
   "outputs": [],
   "source": [
    "import sqlalchemy as db\n",
    "import pandas as pd\n",
    "import os\n",
    "import csv\n",
    "import seaborn as sns\n",
    "import matplotlib.pyplot as plt"
   ]
  },
  {
   "cell_type": "markdown",
   "metadata": {},
   "source": [
    "## Connecting to database"
   ]
  },
  {
   "cell_type": "code",
   "execution_count": 30,
   "metadata": {},
   "outputs": [],
   "source": [
    "# connecting to database sql_challenge created in postgresql\n",
    "engine = db.create_engine('postgresql://localhost:5432/credit-risk-eval')\n",
    "connection = engine.connect()\n",
    "metadata = db.MetaData()"
   ]
  },
  {
   "cell_type": "code",
   "execution_count": 31,
   "metadata": {},
   "outputs": [
    {
     "name": "stderr",
     "output_type": "stream",
     "text": [
      "/var/folders/ld/_spx9cwj74z4zm921xp1zssh0000gn/T/ipykernel_1935/3558990862.py:2: SADeprecationWarning: The Engine.table_names() method is deprecated and will be removed in a future release.  Please refer to Inspector.get_table_names(). (deprecated since: 1.4)\n",
      "  engine.table_names()\n"
     ]
    },
    {
     "data": {
      "text/plain": [
       "[]"
      ]
     },
     "execution_count": 31,
     "metadata": {},
     "output_type": "execute_result"
    }
   ],
   "source": [
    "#to find all the tables for the database (it should be empty)\n",
    "engine.table_names()"
   ]
  },
  {
   "cell_type": "markdown",
   "metadata": {},
   "source": [
    "## used to_sql to insert data "
   ]
  },
  {
   "cell_type": "code",
   "execution_count": 32,
   "metadata": {},
   "outputs": [],
   "source": [
    "#For table train\n",
    "#x_train_path=os.path.join('Resources', 'cleaned-data', 'x_train.csv')\n",
    "\n",
    "#with open(x_train_path, 'r') as train:\n",
    "    #x_train = pd.read_csv(train)\n",
    "#x_train.to_sql('train', con=engine, index=False, if_exists='replace')\n",
    "\n",
    "\n",
    "#For table test\n",
    "#x_test_path=os.path.join('Resources', 'cleaned-data', 'x_test.csv')\n",
    "\n",
    "#with open(x_test_path, 'r') as test:\n",
    "    #x_test = pd.read_csv(test)\n",
    "#x_test.to_sql('test', con=engine, index=False, if_exists='replace')\n",
    "\n",
    "               #For table train_dumy\n",
    "x_train_dumy_path=os.path.join('Resources', 'cleaned-data', 'x_train_dumy.csv')\n",
    "\n",
    "with open(x_train_dumy_path, 'r') as train_dumy:\n",
    "    x_train_dumy = pd.read_csv(train_dumy)\n",
    "x_train_dumy.to_sql('train_dumy', con=engine, index=False, if_exists='replace')\n",
    "\n",
    "#For table test_dumy\n",
    "x_test_dumy_path=os.path.join('Resources', 'cleaned-data', 'x_test_dumy.csv')\n",
    "\n",
    "with open(x_test_dumy_path, 'r') as test_dumy:\n",
    "    x_test_dumy = pd.read_csv(test_dumy)\n",
    "x_test_dumy.to_sql('test_dumy', con=engine, index=False, if_exists='replace')\n"
   ]
  },
  {
   "cell_type": "code",
   "execution_count": 33,
   "metadata": {},
   "outputs": [],
   "source": [
    "#getting the tables from database\n",
    "#test = db.Table('train', metadata, autoload=True, autoload_with=engine)\n",
    "#train = db.Table('test', metadata, autoload=True, autoload_with=engine)\n",
    "test_dumy = db.Table('train_dumy', metadata, autoload=True, autoload_with=engine)\n",
    "train_dumy = db.Table('test_dumy', metadata, autoload=True, autoload_with=engine)\n"
   ]
  },
  {
   "cell_type": "code",
   "execution_count": 34,
   "metadata": {},
   "outputs": [
    {
     "data": {
      "text/plain": [
       "['loan_amnt',\n",
       " 'int_rate',\n",
       " 'installment',\n",
       " 'annual_inc',\n",
       " 'dti',\n",
       " 'delinq_2yrs',\n",
       " 'inq_last_6mths',\n",
       " 'open_acc',\n",
       " 'pub_rec',\n",
       " 'revol_bal',\n",
       " 'total_acc',\n",
       " 'out_prncp',\n",
       " 'out_prncp_inv',\n",
       " 'total_pymnt',\n",
       " 'total_pymnt_inv',\n",
       " 'total_rec_prncp',\n",
       " 'total_rec_int',\n",
       " 'total_rec_late_fee',\n",
       " 'recoveries',\n",
       " 'collection_recovery_fee',\n",
       " 'last_pymnt_amnt',\n",
       " 'collections_12_mths_ex_med',\n",
       " 'policy_code',\n",
       " 'acc_now_delinq',\n",
       " 'tot_coll_amt',\n",
       " 'tot_cur_bal',\n",
       " 'open_acc_6m',\n",
       " 'open_act_il',\n",
       " 'open_il_12m',\n",
       " 'open_il_24m',\n",
       " 'mths_since_rcnt_il',\n",
       " 'total_bal_il',\n",
       " 'il_util',\n",
       " 'open_rv_12m',\n",
       " 'open_rv_24m',\n",
       " 'max_bal_bc',\n",
       " 'all_util',\n",
       " 'total_rev_hi_lim',\n",
       " 'inq_fi',\n",
       " 'total_cu_tl',\n",
       " 'inq_last_12m',\n",
       " 'acc_open_past_24mths',\n",
       " 'avg_cur_bal',\n",
       " 'bc_open_to_buy',\n",
       " 'bc_util',\n",
       " 'chargeoff_within_12_mths',\n",
       " 'delinq_amnt',\n",
       " 'mo_sin_old_il_acct',\n",
       " 'mo_sin_old_rev_tl_op',\n",
       " 'mo_sin_rcnt_rev_tl_op',\n",
       " 'mo_sin_rcnt_tl',\n",
       " 'mort_acc',\n",
       " 'mths_since_recent_bc',\n",
       " 'mths_since_recent_inq',\n",
       " 'num_accts_ever_120_pd',\n",
       " 'num_actv_bc_tl',\n",
       " 'num_actv_rev_tl',\n",
       " 'num_bc_sats',\n",
       " 'num_bc_tl',\n",
       " 'num_il_tl',\n",
       " 'num_op_rev_tl',\n",
       " 'num_rev_accts',\n",
       " 'num_rev_tl_bal_gt_0',\n",
       " 'num_sats',\n",
       " 'num_tl_120dpd_2m',\n",
       " 'num_tl_30dpd',\n",
       " 'num_tl_90g_dpd_24m',\n",
       " 'num_tl_op_past_12m',\n",
       " 'pct_tl_nvr_dlq',\n",
       " 'percent_bc_gt_75',\n",
       " 'pub_rec_bankruptcies',\n",
       " 'tax_liens',\n",
       " 'tot_hi_cred_lim',\n",
       " 'total_bal_ex_mort',\n",
       " 'total_bc_limit',\n",
       " 'total_il_high_credit_limit',\n",
       " 'home_ownership_ANY',\n",
       " 'home_ownership_MORTGAGE',\n",
       " 'home_ownership_OWN',\n",
       " 'home_ownership_RENT',\n",
       " 'verification_status_Not Verified',\n",
       " 'verification_status_Source Verified',\n",
       " 'verification_status_Verified',\n",
       " 'pymnt_plan_n',\n",
       " 'initial_list_status_f',\n",
       " 'initial_list_status_w',\n",
       " 'application_type_Individual',\n",
       " 'application_type_Joint App',\n",
       " 'hardship_flag_N',\n",
       " 'hardship_flag_Y',\n",
       " 'debt_settlement_flag_N',\n",
       " 'debt_settlement_flag_Y']"
      ]
     },
     "execution_count": 34,
     "metadata": {},
     "output_type": "execute_result"
    }
   ],
   "source": [
    "# columns of census table\n",
    "train_dumy.c.keys()"
   ]
  },
  {
   "cell_type": "code",
   "execution_count": 35,
   "metadata": {},
   "outputs": [
    {
     "data": {
      "text/plain": [
       "<sqlalchemy.engine.cursor.LegacyCursorResult at 0x7fb8dc8555e0>"
      ]
     },
     "execution_count": 35,
     "metadata": {},
     "output_type": "execute_result"
    }
   ],
   "source": [
    "#adding primary key\n",
    "#connection.execute('alter table train add id serial primary key')\n",
    "#connection.execute('alter table test add id serial primary key')\n",
    "connection.execute('alter table train_dumy add id serial primary key')\n",
    "connection.execute('alter table test_dumy add id serial primary key')"
   ]
  },
  {
   "cell_type": "code",
   "execution_count": null,
   "metadata": {},
   "outputs": [],
   "source": []
  },
  {
   "cell_type": "markdown",
   "metadata": {},
   "source": [
    "# Using SQLAlchemy ORM"
   ]
  },
  {
   "cell_type": "markdown",
   "metadata": {},
   "source": [
    "# Reflect Tables into SQLAlchemy ORM"
   ]
  },
  {
   "cell_type": "code",
   "execution_count": 36,
   "metadata": {},
   "outputs": [],
   "source": [
    "# Python SQL toolkit and Object Relational Mapper\n",
    "from sqlalchemy.ext.automap import automap_base\n",
    "from sqlalchemy.orm import Session\n",
    "from sqlalchemy import create_engine, func, inspect, and_, or_"
   ]
  },
  {
   "cell_type": "code",
   "execution_count": 37,
   "metadata": {},
   "outputs": [],
   "source": [
    "# create engine to hawaii.sqlite\n",
    "engine = create_engine('postgresql://localhost:5432/credit-risk-eval')\n",
    "conn=engine.connect()"
   ]
  },
  {
   "cell_type": "code",
   "execution_count": 38,
   "metadata": {},
   "outputs": [
    {
     "data": {
      "text/plain": [
       "['train_dumy', 'test_dumy']"
      ]
     },
     "execution_count": 38,
     "metadata": {},
     "output_type": "execute_result"
    }
   ],
   "source": [
    "# Use the Inspector to explore the database and print the table names\n",
    "inspector=inspect(engine)\n",
    "inspector.get_table_names()"
   ]
  },
  {
   "cell_type": "code",
   "execution_count": 39,
   "metadata": {},
   "outputs": [
    {
     "name": "stdout",
     "output_type": "stream",
     "text": [
      "**************************************************\n",
      "loan_amnt DOUBLE_PRECISION\n",
      "int_rate DOUBLE_PRECISION\n",
      "installment DOUBLE_PRECISION\n",
      "annual_inc DOUBLE_PRECISION\n",
      "dti DOUBLE_PRECISION\n",
      "delinq_2yrs DOUBLE_PRECISION\n",
      "inq_last_6mths DOUBLE_PRECISION\n",
      "open_acc DOUBLE_PRECISION\n",
      "pub_rec DOUBLE_PRECISION\n",
      "revol_bal DOUBLE_PRECISION\n",
      "total_acc DOUBLE_PRECISION\n",
      "out_prncp DOUBLE_PRECISION\n",
      "out_prncp_inv DOUBLE_PRECISION\n",
      "total_pymnt DOUBLE_PRECISION\n",
      "total_pymnt_inv DOUBLE_PRECISION\n",
      "total_rec_prncp DOUBLE_PRECISION\n",
      "total_rec_int DOUBLE_PRECISION\n",
      "total_rec_late_fee DOUBLE_PRECISION\n",
      "recoveries DOUBLE_PRECISION\n",
      "collection_recovery_fee DOUBLE_PRECISION\n",
      "last_pymnt_amnt DOUBLE_PRECISION\n",
      "collections_12_mths_ex_med DOUBLE_PRECISION\n",
      "policy_code DOUBLE_PRECISION\n",
      "acc_now_delinq DOUBLE_PRECISION\n",
      "tot_coll_amt DOUBLE_PRECISION\n",
      "tot_cur_bal DOUBLE_PRECISION\n",
      "open_acc_6m DOUBLE_PRECISION\n",
      "open_act_il DOUBLE_PRECISION\n",
      "open_il_12m DOUBLE_PRECISION\n",
      "open_il_24m DOUBLE_PRECISION\n",
      "mths_since_rcnt_il DOUBLE_PRECISION\n",
      "total_bal_il DOUBLE_PRECISION\n",
      "il_util DOUBLE_PRECISION\n",
      "open_rv_12m DOUBLE_PRECISION\n",
      "open_rv_24m DOUBLE_PRECISION\n",
      "max_bal_bc DOUBLE_PRECISION\n",
      "all_util DOUBLE_PRECISION\n",
      "total_rev_hi_lim DOUBLE_PRECISION\n",
      "inq_fi DOUBLE_PRECISION\n",
      "total_cu_tl DOUBLE_PRECISION\n",
      "inq_last_12m DOUBLE_PRECISION\n",
      "acc_open_past_24mths DOUBLE_PRECISION\n",
      "avg_cur_bal DOUBLE_PRECISION\n",
      "bc_open_to_buy DOUBLE_PRECISION\n",
      "bc_util DOUBLE_PRECISION\n",
      "chargeoff_within_12_mths DOUBLE_PRECISION\n",
      "delinq_amnt DOUBLE_PRECISION\n",
      "mo_sin_old_il_acct DOUBLE_PRECISION\n",
      "mo_sin_old_rev_tl_op DOUBLE_PRECISION\n",
      "mo_sin_rcnt_rev_tl_op DOUBLE_PRECISION\n",
      "mo_sin_rcnt_tl DOUBLE_PRECISION\n",
      "mort_acc DOUBLE_PRECISION\n",
      "mths_since_recent_bc DOUBLE_PRECISION\n",
      "mths_since_recent_inq DOUBLE_PRECISION\n",
      "num_accts_ever_120_pd DOUBLE_PRECISION\n",
      "num_actv_bc_tl DOUBLE_PRECISION\n",
      "num_actv_rev_tl DOUBLE_PRECISION\n",
      "num_bc_sats DOUBLE_PRECISION\n",
      "num_bc_tl DOUBLE_PRECISION\n",
      "num_il_tl DOUBLE_PRECISION\n",
      "num_op_rev_tl DOUBLE_PRECISION\n",
      "num_rev_accts DOUBLE_PRECISION\n",
      "num_rev_tl_bal_gt_0 DOUBLE_PRECISION\n",
      "num_sats DOUBLE_PRECISION\n",
      "num_tl_120dpd_2m DOUBLE_PRECISION\n",
      "num_tl_30dpd DOUBLE_PRECISION\n",
      "num_tl_90g_dpd_24m DOUBLE_PRECISION\n",
      "num_tl_op_past_12m DOUBLE_PRECISION\n",
      "pct_tl_nvr_dlq DOUBLE_PRECISION\n",
      "percent_bc_gt_75 DOUBLE_PRECISION\n",
      "pub_rec_bankruptcies DOUBLE_PRECISION\n",
      "tax_liens DOUBLE_PRECISION\n",
      "tot_hi_cred_lim DOUBLE_PRECISION\n",
      "total_bal_ex_mort DOUBLE_PRECISION\n",
      "total_bc_limit DOUBLE_PRECISION\n",
      "total_il_high_credit_limit DOUBLE_PRECISION\n",
      "home_ownership_ANY BIGINT\n",
      "home_ownership_MORTGAGE BIGINT\n",
      "home_ownership_OWN BIGINT\n",
      "home_ownership_RENT BIGINT\n",
      "verification_status_Not Verified BIGINT\n",
      "verification_status_Source Verified BIGINT\n",
      "verification_status_Verified BIGINT\n",
      "pymnt_plan_n BIGINT\n",
      "initial_list_status_f BIGINT\n",
      "initial_list_status_w BIGINT\n",
      "application_type_Individual BIGINT\n",
      "application_type_Joint App BIGINT\n",
      "hardship_flag_N BIGINT\n",
      "hardship_flag_Y BIGINT\n",
      "debt_settlement_flag_N BIGINT\n",
      "debt_settlement_flag_Y BIGINT\n",
      "id INTEGER\n",
      "\n",
      "**************************************************\n",
      "loan_amnt DOUBLE_PRECISION\n",
      "int_rate DOUBLE_PRECISION\n",
      "installment DOUBLE_PRECISION\n",
      "annual_inc DOUBLE_PRECISION\n",
      "dti DOUBLE_PRECISION\n",
      "delinq_2yrs DOUBLE_PRECISION\n",
      "inq_last_6mths DOUBLE_PRECISION\n",
      "open_acc DOUBLE_PRECISION\n",
      "pub_rec DOUBLE_PRECISION\n",
      "revol_bal DOUBLE_PRECISION\n",
      "total_acc DOUBLE_PRECISION\n",
      "out_prncp DOUBLE_PRECISION\n",
      "out_prncp_inv DOUBLE_PRECISION\n",
      "total_pymnt DOUBLE_PRECISION\n",
      "total_pymnt_inv DOUBLE_PRECISION\n",
      "total_rec_prncp DOUBLE_PRECISION\n",
      "total_rec_int DOUBLE_PRECISION\n",
      "total_rec_late_fee DOUBLE_PRECISION\n",
      "recoveries DOUBLE_PRECISION\n",
      "collection_recovery_fee DOUBLE_PRECISION\n",
      "last_pymnt_amnt DOUBLE_PRECISION\n",
      "collections_12_mths_ex_med DOUBLE_PRECISION\n",
      "policy_code DOUBLE_PRECISION\n",
      "acc_now_delinq DOUBLE_PRECISION\n",
      "tot_coll_amt DOUBLE_PRECISION\n",
      "tot_cur_bal DOUBLE_PRECISION\n",
      "open_acc_6m DOUBLE_PRECISION\n",
      "open_act_il DOUBLE_PRECISION\n",
      "open_il_12m DOUBLE_PRECISION\n",
      "open_il_24m DOUBLE_PRECISION\n",
      "mths_since_rcnt_il DOUBLE_PRECISION\n",
      "total_bal_il DOUBLE_PRECISION\n",
      "il_util DOUBLE_PRECISION\n",
      "open_rv_12m DOUBLE_PRECISION\n",
      "open_rv_24m DOUBLE_PRECISION\n",
      "max_bal_bc DOUBLE_PRECISION\n",
      "all_util DOUBLE_PRECISION\n",
      "total_rev_hi_lim DOUBLE_PRECISION\n",
      "inq_fi DOUBLE_PRECISION\n",
      "total_cu_tl DOUBLE_PRECISION\n",
      "inq_last_12m DOUBLE_PRECISION\n",
      "acc_open_past_24mths DOUBLE_PRECISION\n",
      "avg_cur_bal DOUBLE_PRECISION\n",
      "bc_open_to_buy DOUBLE_PRECISION\n",
      "bc_util DOUBLE_PRECISION\n",
      "chargeoff_within_12_mths DOUBLE_PRECISION\n",
      "delinq_amnt DOUBLE_PRECISION\n",
      "mo_sin_old_il_acct DOUBLE_PRECISION\n",
      "mo_sin_old_rev_tl_op DOUBLE_PRECISION\n",
      "mo_sin_rcnt_rev_tl_op DOUBLE_PRECISION\n",
      "mo_sin_rcnt_tl DOUBLE_PRECISION\n",
      "mort_acc DOUBLE_PRECISION\n",
      "mths_since_recent_bc DOUBLE_PRECISION\n",
      "mths_since_recent_inq DOUBLE_PRECISION\n",
      "num_accts_ever_120_pd DOUBLE_PRECISION\n",
      "num_actv_bc_tl DOUBLE_PRECISION\n",
      "num_actv_rev_tl DOUBLE_PRECISION\n",
      "num_bc_sats DOUBLE_PRECISION\n",
      "num_bc_tl DOUBLE_PRECISION\n",
      "num_il_tl DOUBLE_PRECISION\n",
      "num_op_rev_tl DOUBLE_PRECISION\n",
      "num_rev_accts DOUBLE_PRECISION\n",
      "num_rev_tl_bal_gt_0 DOUBLE_PRECISION\n",
      "num_sats DOUBLE_PRECISION\n",
      "num_tl_120dpd_2m DOUBLE_PRECISION\n",
      "num_tl_30dpd DOUBLE_PRECISION\n",
      "num_tl_90g_dpd_24m DOUBLE_PRECISION\n",
      "num_tl_op_past_12m DOUBLE_PRECISION\n",
      "pct_tl_nvr_dlq DOUBLE_PRECISION\n",
      "percent_bc_gt_75 DOUBLE_PRECISION\n",
      "pub_rec_bankruptcies DOUBLE_PRECISION\n",
      "tax_liens DOUBLE_PRECISION\n",
      "tot_hi_cred_lim DOUBLE_PRECISION\n",
      "total_bal_ex_mort DOUBLE_PRECISION\n",
      "total_bc_limit DOUBLE_PRECISION\n",
      "total_il_high_credit_limit DOUBLE_PRECISION\n",
      "home_ownership_ANY BIGINT\n",
      "home_ownership_MORTGAGE BIGINT\n",
      "home_ownership_OWN BIGINT\n",
      "home_ownership_RENT BIGINT\n",
      "verification_status_Not Verified BIGINT\n",
      "verification_status_Source Verified BIGINT\n",
      "verification_status_Verified BIGINT\n",
      "pymnt_plan_n BIGINT\n",
      "initial_list_status_f BIGINT\n",
      "initial_list_status_w BIGINT\n",
      "application_type_Individual BIGINT\n",
      "application_type_Joint App BIGINT\n",
      "hardship_flag_N BIGINT\n",
      "hardship_flag_Y BIGINT\n",
      "debt_settlement_flag_N BIGINT\n",
      "debt_settlement_flag_Y BIGINT\n",
      "id INTEGER\n"
     ]
    }
   ],
   "source": [
    "# Use Inspector to print the column names and types\n",
    "\n",
    "print('*'*50)\n",
    "columns=inspector.get_columns('train_dumy')\n",
    "for column in columns:\n",
    "    print(column['name'], column['type'])\n",
    "\n",
    "print('')\n",
    "\n",
    "print('*'*50)\n",
    "columns=inspector.get_columns('test_dumy')\n",
    "for column in columns:\n",
    "    print(column['name'], column['type'])\n",
    "    \n"
   ]
  },
  {
   "cell_type": "code",
   "execution_count": 40,
   "metadata": {},
   "outputs": [],
   "source": [
    "# reflect an existing database into a new model\n",
    "Base = automap_base()\n",
    "Base.prepare(engine, reflect=True)"
   ]
  },
  {
   "cell_type": "code",
   "execution_count": 41,
   "metadata": {},
   "outputs": [
    {
     "data": {
      "text/plain": [
       "['train_dumy', 'test_dumy']"
      ]
     },
     "execution_count": 41,
     "metadata": {},
     "output_type": "execute_result"
    }
   ],
   "source": [
    "# View all of the classes that automap found\n",
    "Base.classes.keys()"
   ]
  },
  {
   "cell_type": "code",
   "execution_count": 42,
   "metadata": {},
   "outputs": [],
   "source": [
    "# Save references to each table\n",
    "#Train = Base.classes.train\n",
    "#Test = Base.classes.test\n",
    "Train_dumy=Base.classes.train_dumy\n",
    "Test_dumy=Base.classes.test_dumy"
   ]
  },
  {
   "cell_type": "code",
   "execution_count": 43,
   "metadata": {},
   "outputs": [],
   "source": [
    "# Create our session (link) from Python to the DB\n",
    "session = Session(engine)"
   ]
  },
  {
   "cell_type": "markdown",
   "metadata": {},
   "source": [
    "# Exploring election table"
   ]
  },
  {
   "cell_type": "code",
   "execution_count": 44,
   "metadata": {},
   "outputs": [
    {
     "data": {
      "text/html": [
       "<div>\n",
       "<style scoped>\n",
       "    .dataframe tbody tr th:only-of-type {\n",
       "        vertical-align: middle;\n",
       "    }\n",
       "\n",
       "    .dataframe tbody tr th {\n",
       "        vertical-align: top;\n",
       "    }\n",
       "\n",
       "    .dataframe thead th {\n",
       "        text-align: right;\n",
       "    }\n",
       "</style>\n",
       "<table border=\"1\" class=\"dataframe\">\n",
       "  <thead>\n",
       "    <tr style=\"text-align: right;\">\n",
       "      <th></th>\n",
       "      <th>loan_amnt</th>\n",
       "      <th>int_rate</th>\n",
       "      <th>installment</th>\n",
       "      <th>annual_inc</th>\n",
       "      <th>dti</th>\n",
       "      <th>delinq_2yrs</th>\n",
       "      <th>inq_last_6mths</th>\n",
       "      <th>open_acc</th>\n",
       "      <th>pub_rec</th>\n",
       "      <th>revol_bal</th>\n",
       "      <th>...</th>\n",
       "      <th>pymnt_plan_n</th>\n",
       "      <th>initial_list_status_f</th>\n",
       "      <th>initial_list_status_w</th>\n",
       "      <th>application_type_Individual</th>\n",
       "      <th>application_type_Joint App</th>\n",
       "      <th>hardship_flag_N</th>\n",
       "      <th>hardship_flag_Y</th>\n",
       "      <th>debt_settlement_flag_N</th>\n",
       "      <th>debt_settlement_flag_Y</th>\n",
       "      <th>id</th>\n",
       "    </tr>\n",
       "  </thead>\n",
       "  <tbody>\n",
       "    <tr>\n",
       "      <th>0</th>\n",
       "      <td>7000.0</td>\n",
       "      <td>0.1894</td>\n",
       "      <td>256.38</td>\n",
       "      <td>75000.0</td>\n",
       "      <td>28.62</td>\n",
       "      <td>0.0</td>\n",
       "      <td>2.0</td>\n",
       "      <td>20.0</td>\n",
       "      <td>0.0</td>\n",
       "      <td>40414.0</td>\n",
       "      <td>...</td>\n",
       "      <td>1</td>\n",
       "      <td>1</td>\n",
       "      <td>0</td>\n",
       "      <td>1</td>\n",
       "      <td>0</td>\n",
       "      <td>1</td>\n",
       "      <td>0</td>\n",
       "      <td>1</td>\n",
       "      <td>0</td>\n",
       "      <td>1</td>\n",
       "    </tr>\n",
       "    <tr>\n",
       "      <th>1</th>\n",
       "      <td>40000.0</td>\n",
       "      <td>0.1614</td>\n",
       "      <td>975.71</td>\n",
       "      <td>102000.0</td>\n",
       "      <td>11.72</td>\n",
       "      <td>2.0</td>\n",
       "      <td>0.0</td>\n",
       "      <td>10.0</td>\n",
       "      <td>0.0</td>\n",
       "      <td>43531.0</td>\n",
       "      <td>...</td>\n",
       "      <td>1</td>\n",
       "      <td>0</td>\n",
       "      <td>1</td>\n",
       "      <td>1</td>\n",
       "      <td>0</td>\n",
       "      <td>1</td>\n",
       "      <td>0</td>\n",
       "      <td>1</td>\n",
       "      <td>0</td>\n",
       "      <td>2</td>\n",
       "    </tr>\n",
       "    <tr>\n",
       "      <th>2</th>\n",
       "      <td>11000.0</td>\n",
       "      <td>0.2055</td>\n",
       "      <td>294.81</td>\n",
       "      <td>45000.0</td>\n",
       "      <td>37.25</td>\n",
       "      <td>1.0</td>\n",
       "      <td>3.0</td>\n",
       "      <td>23.0</td>\n",
       "      <td>0.0</td>\n",
       "      <td>8242.0</td>\n",
       "      <td>...</td>\n",
       "      <td>1</td>\n",
       "      <td>0</td>\n",
       "      <td>1</td>\n",
       "      <td>1</td>\n",
       "      <td>0</td>\n",
       "      <td>1</td>\n",
       "      <td>0</td>\n",
       "      <td>1</td>\n",
       "      <td>0</td>\n",
       "      <td>3</td>\n",
       "    </tr>\n",
       "    <tr>\n",
       "      <th>3</th>\n",
       "      <td>4000.0</td>\n",
       "      <td>0.1612</td>\n",
       "      <td>140.87</td>\n",
       "      <td>38000.0</td>\n",
       "      <td>42.89</td>\n",
       "      <td>1.0</td>\n",
       "      <td>0.0</td>\n",
       "      <td>7.0</td>\n",
       "      <td>0.0</td>\n",
       "      <td>12767.0</td>\n",
       "      <td>...</td>\n",
       "      <td>1</td>\n",
       "      <td>0</td>\n",
       "      <td>1</td>\n",
       "      <td>0</td>\n",
       "      <td>1</td>\n",
       "      <td>1</td>\n",
       "      <td>0</td>\n",
       "      <td>1</td>\n",
       "      <td>0</td>\n",
       "      <td>4</td>\n",
       "    </tr>\n",
       "    <tr>\n",
       "      <th>4</th>\n",
       "      <td>14000.0</td>\n",
       "      <td>0.1797</td>\n",
       "      <td>505.93</td>\n",
       "      <td>43000.0</td>\n",
       "      <td>22.16</td>\n",
       "      <td>1.0</td>\n",
       "      <td>0.0</td>\n",
       "      <td>22.0</td>\n",
       "      <td>0.0</td>\n",
       "      <td>11182.0</td>\n",
       "      <td>...</td>\n",
       "      <td>1</td>\n",
       "      <td>0</td>\n",
       "      <td>1</td>\n",
       "      <td>1</td>\n",
       "      <td>0</td>\n",
       "      <td>1</td>\n",
       "      <td>0</td>\n",
       "      <td>1</td>\n",
       "      <td>0</td>\n",
       "      <td>5</td>\n",
       "    </tr>\n",
       "  </tbody>\n",
       "</table>\n",
       "<p>5 rows × 93 columns</p>\n",
       "</div>"
      ],
      "text/plain": [
       "   loan_amnt  int_rate  installment  annual_inc    dti  delinq_2yrs  \\\n",
       "0     7000.0    0.1894       256.38     75000.0  28.62          0.0   \n",
       "1    40000.0    0.1614       975.71    102000.0  11.72          2.0   \n",
       "2    11000.0    0.2055       294.81     45000.0  37.25          1.0   \n",
       "3     4000.0    0.1612       140.87     38000.0  42.89          1.0   \n",
       "4    14000.0    0.1797       505.93     43000.0  22.16          1.0   \n",
       "\n",
       "   inq_last_6mths  open_acc  pub_rec  revol_bal  ...  pymnt_plan_n  \\\n",
       "0             2.0      20.0      0.0    40414.0  ...             1   \n",
       "1             0.0      10.0      0.0    43531.0  ...             1   \n",
       "2             3.0      23.0      0.0     8242.0  ...             1   \n",
       "3             0.0       7.0      0.0    12767.0  ...             1   \n",
       "4             0.0      22.0      0.0    11182.0  ...             1   \n",
       "\n",
       "   initial_list_status_f  initial_list_status_w  application_type_Individual  \\\n",
       "0                      1                      0                            1   \n",
       "1                      0                      1                            1   \n",
       "2                      0                      1                            1   \n",
       "3                      0                      1                            0   \n",
       "4                      0                      1                            1   \n",
       "\n",
       "   application_type_Joint App  hardship_flag_N  hardship_flag_Y  \\\n",
       "0                           0                1                0   \n",
       "1                           0                1                0   \n",
       "2                           0                1                0   \n",
       "3                           1                1                0   \n",
       "4                           0                1                0   \n",
       "\n",
       "   debt_settlement_flag_N  debt_settlement_flag_Y  id  \n",
       "0                       1                       0   1  \n",
       "1                       1                       0   2  \n",
       "2                       1                       0   3  \n",
       "3                       1                       0   4  \n",
       "4                       1                       0   5  \n",
       "\n",
       "[5 rows x 93 columns]"
      ]
     },
     "execution_count": 44,
     "metadata": {},
     "output_type": "execute_result"
    }
   ],
   "source": [
    "#using pd.read_sql to select and display (also able to see columns name)\n",
    "df_election=pd.read_sql(\"SELECT * FROM train_dumy\", conn)\n",
    "\n",
    "df_election.head()"
   ]
  },
  {
   "cell_type": "code",
   "execution_count": null,
   "metadata": {},
   "outputs": [],
   "source": []
  },
  {
   "cell_type": "code",
   "execution_count": null,
   "metadata": {},
   "outputs": [],
   "source": []
  },
  {
   "cell_type": "code",
   "execution_count": null,
   "metadata": {},
   "outputs": [],
   "source": []
  },
  {
   "cell_type": "code",
   "execution_count": null,
   "metadata": {},
   "outputs": [],
   "source": []
  },
  {
   "cell_type": "code",
   "execution_count": null,
   "metadata": {},
   "outputs": [],
   "source": []
  },
  {
   "cell_type": "markdown",
   "metadata": {},
   "source": [
    "# Close session"
   ]
  },
  {
   "cell_type": "code",
   "execution_count": null,
   "metadata": {},
   "outputs": [],
   "source": [
    "# Close Session\n",
    "session.close()"
   ]
  }
 ],
 "metadata": {
  "kernelspec": {
   "display_name": "Python 3 (ipykernel)",
   "language": "python",
   "name": "python3"
  },
  "language_info": {
   "codemirror_mode": {
    "name": "ipython",
    "version": 3
   },
   "file_extension": ".py",
   "mimetype": "text/x-python",
   "name": "python",
   "nbconvert_exporter": "python",
   "pygments_lexer": "ipython3",
   "version": "3.8.10"
  },
  "metadata": {
   "interpreter": {
    "hash": "082e9a3bcad0a290d0001e938aa60b99250c6c2ef33a923c00b70f9826caf4b7"
   }
  }
 },
 "nbformat": 4,
 "nbformat_minor": 4
}
